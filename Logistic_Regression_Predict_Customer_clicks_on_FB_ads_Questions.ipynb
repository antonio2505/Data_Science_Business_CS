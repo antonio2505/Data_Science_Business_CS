{
  "nbformat": 4,
  "nbformat_minor": 0,
  "metadata": {
    "kernelspec": {
      "display_name": "Python 3",
      "language": "python",
      "name": "python3"
    },
    "language_info": {
      "codemirror_mode": {
        "name": "ipython",
        "version": 3
      },
      "file_extension": ".py",
      "mimetype": "text/x-python",
      "name": "python",
      "nbconvert_exporter": "python",
      "pygments_lexer": "ipython3",
      "version": "3.6.5"
    },
    "colab": {
      "name": "Logistic Regression - Predict Customer clicks on FB ads - Questions.ipynb",
      "provenance": [],
      "include_colab_link": true
    }
  },
  "cells": [
    {
      "cell_type": "markdown",
      "metadata": {
        "id": "view-in-github",
        "colab_type": "text"
      },
      "source": [
        "<a href=\"https://colab.research.google.com/github/antonio2505/Data_Science_Business_CS/blob/main/Logistic_Regression_Predict_Customer_clicks_on_FB_ads_Questions.ipynb\" target=\"_parent\"><img src=\"https://colab.research.google.com/assets/colab-badge.svg\" alt=\"Open In Colab\"/></a>"
      ]
    },
    {
      "cell_type": "markdown",
      "metadata": {
        "id": "LhDSPQe864jz"
      },
      "source": [
        "\n",
        "# CODE TO PERFORM LOGISTIC REGRESSION\n",
        "# Mr. Kassi\n"
      ]
    },
    {
      "cell_type": "markdown",
      "metadata": {
        "id": "ooHbS21l64kA"
      },
      "source": [
        "# PROBLEM STATEMENT"
      ]
    },
    {
      "cell_type": "markdown",
      "metadata": {
        "id": "7_It3I8B64kC"
      },
      "source": [
        "You have been hired as a consultant to a start-up that is running a targetted marketing ads on facebook. The company wants to anaylze customer behaviour by predicting which customer clicks on the advertisement. Customer data is as follows: \n",
        "\n",
        "Inputs: \n",
        "- Name \n",
        "- e-mail \n",
        "- Country \n",
        "- Time on Facebook \n",
        "- Estimated Salary (derived from other parameters)\n",
        "\n",
        "Outputs:\n",
        "- Click (1: customer clicked on Ad, 0: Customer did not click on the Ad)"
      ]
    },
    {
      "cell_type": "markdown",
      "metadata": {
        "id": "M_MYY3oE64kO"
      },
      "source": [
        "![image.png](attachment:image.png)"
      ]
    },
    {
      "cell_type": "markdown",
      "metadata": {
        "id": "QbmeTOwP64kP"
      },
      "source": [
        "# STEP #0: LIBRARIES IMPORT\n"
      ]
    },
    {
      "cell_type": "code",
      "metadata": {
        "id": "i8yxUs5A64kT"
      },
      "source": [
        "import pandas as pd\n",
        "import numpy as np\n",
        "import matplotlib.pyplot as plt\n",
        "import seaborn as sns"
      ],
      "execution_count": 44,
      "outputs": []
    },
    {
      "cell_type": "markdown",
      "metadata": {
        "id": "RGqPOm9M64kU"
      },
      "source": [
        "# STEP #1: IMPORT DATASET"
      ]
    },
    {
      "cell_type": "code",
      "metadata": {
        "scrolled": false,
        "colab": {
          "resources": {
            "http://localhost:8080/nbextensions/google.colab/files.js": {
              "data": "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",
              "ok": true,
              "headers": [
                [
                  "content-type",
                  "application/javascript"
                ]
              ],
              "status": 200,
              "status_text": ""
            }
          },
          "base_uri": "https://localhost:8080/",
          "height": 72
        },
        "id": "i0HxIxf-64kW",
        "outputId": "46e16a29-44f1-4b4b-c5bb-54832ae2fad4"
      },
      "source": [
        "from google.colab import  files\n",
        "file = files.upload()"
      ],
      "execution_count": 45,
      "outputs": [
        {
          "output_type": "display_data",
          "data": {
            "text/html": [
              "\n",
              "     <input type=\"file\" id=\"files-2ff88954-9d9a-4bee-a0a8-ed4ce151b3b0\" name=\"files[]\" multiple disabled\n",
              "        style=\"border:none\" />\n",
              "     <output id=\"result-2ff88954-9d9a-4bee-a0a8-ed4ce151b3b0\">\n",
              "      Upload widget is only available when the cell has been executed in the\n",
              "      current browser session. Please rerun this cell to enable.\n",
              "      </output>\n",
              "      <script src=\"/nbextensions/google.colab/files.js\"></script> "
            ],
            "text/plain": [
              "<IPython.core.display.HTML object>"
            ]
          },
          "metadata": {
            "tags": []
          }
        },
        {
          "output_type": "stream",
          "text": [
            "Saving Facebook_Ads_2.csv to Facebook_Ads_2 (1).csv\n"
          ],
          "name": "stdout"
        }
      ]
    },
    {
      "cell_type": "code",
      "metadata": {
        "id": "nk3tte6264kX"
      },
      "source": [
        "training_set = pd.read_csv('Facebook_Ads_2.csv', encoding='ISO-8859-1')"
      ],
      "execution_count": 46,
      "outputs": []
    },
    {
      "cell_type": "code",
      "metadata": {
        "colab": {
          "base_uri": "https://localhost:8080/",
          "height": 419
        },
        "id": "1omFbaHY64kn",
        "outputId": "938f193d-f8b7-4d3b-f00c-87913a1b9300"
      },
      "source": [
        "training_set"
      ],
      "execution_count": 47,
      "outputs": [
        {
          "output_type": "execute_result",
          "data": {
            "text/html": [
              "<div>\n",
              "<style scoped>\n",
              "    .dataframe tbody tr th:only-of-type {\n",
              "        vertical-align: middle;\n",
              "    }\n",
              "\n",
              "    .dataframe tbody tr th {\n",
              "        vertical-align: top;\n",
              "    }\n",
              "\n",
              "    .dataframe thead th {\n",
              "        text-align: right;\n",
              "    }\n",
              "</style>\n",
              "<table border=\"1\" class=\"dataframe\">\n",
              "  <thead>\n",
              "    <tr style=\"text-align: right;\">\n",
              "      <th></th>\n",
              "      <th>Names</th>\n",
              "      <th>emails</th>\n",
              "      <th>Country</th>\n",
              "      <th>Time Spent on Site</th>\n",
              "      <th>Salary</th>\n",
              "      <th>Clicked</th>\n",
              "    </tr>\n",
              "  </thead>\n",
              "  <tbody>\n",
              "    <tr>\n",
              "      <th>0</th>\n",
              "      <td>Martina Avila</td>\n",
              "      <td>cubilia.Curae.Phasellus@quisaccumsanconvallis.edu</td>\n",
              "      <td>Bulgaria</td>\n",
              "      <td>25.649648</td>\n",
              "      <td>55330.06006</td>\n",
              "      <td>0</td>\n",
              "    </tr>\n",
              "    <tr>\n",
              "      <th>1</th>\n",
              "      <td>Harlan Barnes</td>\n",
              "      <td>eu.dolor@diam.co.uk</td>\n",
              "      <td>Belize</td>\n",
              "      <td>32.456107</td>\n",
              "      <td>79049.07674</td>\n",
              "      <td>1</td>\n",
              "    </tr>\n",
              "    <tr>\n",
              "      <th>2</th>\n",
              "      <td>Naomi Rodriquez</td>\n",
              "      <td>vulputate.mauris.sagittis@ametconsectetueradip...</td>\n",
              "      <td>Algeria</td>\n",
              "      <td>20.945978</td>\n",
              "      <td>41098.60826</td>\n",
              "      <td>0</td>\n",
              "    </tr>\n",
              "    <tr>\n",
              "      <th>3</th>\n",
              "      <td>Jade Cunningham</td>\n",
              "      <td>malesuada@dignissim.com</td>\n",
              "      <td>Cook Islands</td>\n",
              "      <td>54.039325</td>\n",
              "      <td>37143.35536</td>\n",
              "      <td>1</td>\n",
              "    </tr>\n",
              "    <tr>\n",
              "      <th>4</th>\n",
              "      <td>Cedric Leach</td>\n",
              "      <td>felis.ullamcorper.viverra@egetmollislectus.net</td>\n",
              "      <td>Brazil</td>\n",
              "      <td>34.249729</td>\n",
              "      <td>37355.11276</td>\n",
              "      <td>0</td>\n",
              "    </tr>\n",
              "    <tr>\n",
              "      <th>...</th>\n",
              "      <td>...</td>\n",
              "      <td>...</td>\n",
              "      <td>...</td>\n",
              "      <td>...</td>\n",
              "      <td>...</td>\n",
              "      <td>...</td>\n",
              "    </tr>\n",
              "    <tr>\n",
              "      <th>494</th>\n",
              "      <td>Rigel</td>\n",
              "      <td>egestas.blandit.Nam@semvitaealiquam.com</td>\n",
              "      <td>Sao Tome and Principe</td>\n",
              "      <td>19.222746</td>\n",
              "      <td>44969.13495</td>\n",
              "      <td>0</td>\n",
              "    </tr>\n",
              "    <tr>\n",
              "      <th>495</th>\n",
              "      <td>Walter</td>\n",
              "      <td>ligula@Cumsociis.ca</td>\n",
              "      <td>Nepal</td>\n",
              "      <td>22.665662</td>\n",
              "      <td>41686.20425</td>\n",
              "      <td>0</td>\n",
              "    </tr>\n",
              "    <tr>\n",
              "      <th>496</th>\n",
              "      <td>Vanna</td>\n",
              "      <td>Cum.sociis.natoque@Sedmolestie.edu</td>\n",
              "      <td>Zimbabwe</td>\n",
              "      <td>35.320239</td>\n",
              "      <td>23989.80864</td>\n",
              "      <td>0</td>\n",
              "    </tr>\n",
              "    <tr>\n",
              "      <th>497</th>\n",
              "      <td>Pearl</td>\n",
              "      <td>penatibus.et@massanonante.com</td>\n",
              "      <td>Philippines</td>\n",
              "      <td>26.539170</td>\n",
              "      <td>31708.57054</td>\n",
              "      <td>0</td>\n",
              "    </tr>\n",
              "    <tr>\n",
              "      <th>498</th>\n",
              "      <td>Nell</td>\n",
              "      <td>Quisque.varius@arcuVivamussit.net</td>\n",
              "      <td>Botswana</td>\n",
              "      <td>32.386148</td>\n",
              "      <td>74331.35442</td>\n",
              "      <td>1</td>\n",
              "    </tr>\n",
              "  </tbody>\n",
              "</table>\n",
              "<p>499 rows × 6 columns</p>\n",
              "</div>"
            ],
            "text/plain": [
              "               Names  ... Clicked\n",
              "0      Martina Avila  ...       0\n",
              "1      Harlan Barnes  ...       1\n",
              "2    Naomi Rodriquez  ...       0\n",
              "3    Jade Cunningham  ...       1\n",
              "4       Cedric Leach  ...       0\n",
              "..               ...  ...     ...\n",
              "494            Rigel  ...       0\n",
              "495           Walter  ...       0\n",
              "496            Vanna  ...       0\n",
              "497            Pearl  ...       0\n",
              "498             Nell  ...       1\n",
              "\n",
              "[499 rows x 6 columns]"
            ]
          },
          "metadata": {
            "tags": []
          },
          "execution_count": 47
        }
      ]
    },
    {
      "cell_type": "code",
      "metadata": {
        "colab": {
          "base_uri": "https://localhost:8080/"
        },
        "id": "V_Y1_KrE9jA8",
        "outputId": "a5fc1cc7-78a2-4a97-e33f-dc7e52cecd95"
      },
      "source": [
        "training_set.info()"
      ],
      "execution_count": 48,
      "outputs": [
        {
          "output_type": "stream",
          "text": [
            "<class 'pandas.core.frame.DataFrame'>\n",
            "RangeIndex: 499 entries, 0 to 498\n",
            "Data columns (total 6 columns):\n",
            " #   Column              Non-Null Count  Dtype  \n",
            "---  ------              --------------  -----  \n",
            " 0   Names               499 non-null    object \n",
            " 1   emails              499 non-null    object \n",
            " 2   Country             499 non-null    object \n",
            " 3   Time Spent on Site  499 non-null    float64\n",
            " 4   Salary              499 non-null    float64\n",
            " 5   Clicked             499 non-null    int64  \n",
            "dtypes: float64(2), int64(1), object(3)\n",
            "memory usage: 23.5+ KB\n"
          ],
          "name": "stdout"
        }
      ]
    },
    {
      "cell_type": "code",
      "metadata": {
        "id": "rjCrBJEn9jD6"
      },
      "source": [
        ""
      ],
      "execution_count": 48,
      "outputs": []
    },
    {
      "cell_type": "code",
      "metadata": {
        "id": "JMoTGEmo9jIX"
      },
      "source": [
        ""
      ],
      "execution_count": 48,
      "outputs": []
    },
    {
      "cell_type": "code",
      "metadata": {
        "id": "ONiQZULZ9jLw"
      },
      "source": [
        ""
      ],
      "execution_count": 48,
      "outputs": []
    },
    {
      "cell_type": "markdown",
      "metadata": {
        "id": "6LxKsOIz64ko"
      },
      "source": [
        "# STEP #2: EXPLORE/VISUALIZE DATASET"
      ]
    },
    {
      "cell_type": "code",
      "metadata": {
        "id": "p1EYAwmi-GK5"
      },
      "source": [
        "clicked = training_set[training_set['Clicked']==1]\n",
        "no_clicked = training_set[training_set['Clicked']==0]"
      ],
      "execution_count": 49,
      "outputs": []
    },
    {
      "cell_type": "code",
      "metadata": {
        "colab": {
          "base_uri": "https://localhost:8080/"
        },
        "id": "zaJD96nY64kt",
        "outputId": "adfc8a93-ca16-4aab-d869-331540f5a7da"
      },
      "source": [
        "print(\"Total = \", len(training_set))\n",
        "print(\"Number of customers who clicked on Ad = \", len(clicked))\n",
        "print(\"Percentage who  Clicked = \", len(clicked) / len(training_set) * 100)\n",
        "print(\"Number of customers who did not click on Ad = \", len(clicked))\n",
        "print(\"Percentage who did not Click = \", len(no_clicked) / len(training_set) * 100)"
      ],
      "execution_count": 50,
      "outputs": [
        {
          "output_type": "stream",
          "text": [
            "Total =  499\n",
            "Number of customers who clicked on Ad =  250\n",
            "Percentage who  Clicked =  50.1002004008016\n",
            "Number of customers who did not click on Ad =  250\n",
            "Percentage who did not Click =  49.899799599198396\n"
          ],
          "name": "stdout"
        }
      ]
    },
    {
      "cell_type": "code",
      "metadata": {
        "colab": {
          "base_uri": "https://localhost:8080/",
          "height": 296
        },
        "id": "a5ldC16X64kz",
        "outputId": "520c9333-48cb-494e-da67-05a446c9f76e"
      },
      "source": [
        "sns.scatterplot(x = 'Time Spent on Site', y = 'Salary', hue = 'Clicked', data = training_set)"
      ],
      "execution_count": 51,
      "outputs": [
        {
          "output_type": "execute_result",
          "data": {
            "text/plain": [
              "<matplotlib.axes._subplots.AxesSubplot at 0x7f3439aa2450>"
            ]
          },
          "metadata": {
            "tags": []
          },
          "execution_count": 51
        },
        {
          "output_type": "display_data",
          "data": {
            "image/png": "[encoded data removed]",
            "text/plain": [
              "<Figure size 432x288 with 1 Axes>"
            ]
          },
          "metadata": {
            "tags": [],
            "needs_background": "light"
          }
        }
      ]
    },
    {
      "cell_type": "code",
      "metadata": {
        "colab": {
          "base_uri": "https://localhost:8080/",
          "height": 351
        },
        "id": "kSyugK-h64k2",
        "outputId": "a82e9ec6-0271-4f68-8be2-8cce7004ae86"
      },
      "source": [
        "plt.figure(figsize=(5,5))\n",
        "sns.boxenplot(x= 'Clicked', y = 'Salary',data=training_set)"
      ],
      "execution_count": 52,
      "outputs": [
        {
          "output_type": "execute_result",
          "data": {
            "text/plain": [
              "<matplotlib.axes._subplots.AxesSubplot at 0x7f3439adba10>"
            ]
          },
          "metadata": {
            "tags": []
          },
          "execution_count": 52
        },
        {
          "output_type": "display_data",
          "data": {
            "image/png": "[encoded data removed]",
            "text/plain": [
              "<Figure size 360x360 with 1 Axes>"
            ]
          },
          "metadata": {
            "tags": [],
            "needs_background": "light"
          }
        }
      ]
    },
    {
      "cell_type": "code",
      "metadata": {
        "colab": {
          "base_uri": "https://localhost:8080/",
          "height": 351
        },
        "id": "8bVhgeXU64k3",
        "outputId": "8e4695a1-deff-4c82-9be0-45c92dc80a1e"
      },
      "source": [
        "plt.figure(figsize=(5,5))\n",
        "sns.boxenplot(x= 'Clicked', y = 'Time Spent on Site',data=training_set)"
      ],
      "execution_count": 53,
      "outputs": [
        {
          "output_type": "execute_result",
          "data": {
            "text/plain": [
              "<matplotlib.axes._subplots.AxesSubplot at 0x7f3439a84590>"
            ]
          },
          "metadata": {
            "tags": []
          },
          "execution_count": 53
        },
        {
          "output_type": "display_data",
          "data": {
            "image/png": "[encoded data removed]",
            "text/plain": [
              "<Figure size 360x360 with 1 Axes>"
            ]
          },
          "metadata": {
            "tags": [],
            "needs_background": "light"
          }
        }
      ]
    },
    {
      "cell_type": "code",
      "metadata": {
        "colab": {
          "base_uri": "https://localhost:8080/",
          "height": 282
        },
        "id": "fd2fGMTy64k4",
        "outputId": "b4f2c96d-78a0-457e-d3f2-77f4727d004a"
      },
      "source": [
        "training_set['Salary'].hist(bins = 40)"
      ],
      "execution_count": 54,
      "outputs": [
        {
          "output_type": "execute_result",
          "data": {
            "text/plain": [
              "<matplotlib.axes._subplots.AxesSubplot at 0x7f34399605d0>"
            ]
          },
          "metadata": {
            "tags": []
          },
          "execution_count": 54
        },
        {
          "output_type": "display_data",
          "data": {
            "image/png": "[encoded data removed]",
            "text/plain": [
              "<Figure size 432x288 with 1 Axes>"
            ]
          },
          "metadata": {
            "tags": [],
            "needs_background": "light"
          }
        }
      ]
    },
    {
      "cell_type": "code",
      "metadata": {
        "colab": {
          "base_uri": "https://localhost:8080/",
          "height": 282
        },
        "id": "pnjy0rLM64k4",
        "outputId": "2a9b0862-0650-4ba2-ea2b-9661f91e0fc0"
      },
      "source": [
        "training_set['Time Spent on Site'].hist(bins = 40)"
      ],
      "execution_count": 55,
      "outputs": [
        {
          "output_type": "execute_result",
          "data": {
            "text/plain": [
              "<matplotlib.axes._subplots.AxesSubplot at 0x7f34398a40d0>"
            ]
          },
          "metadata": {
            "tags": []
          },
          "execution_count": 55
        },
        {
          "output_type": "display_data",
          "data": {
            "image/png": "[encoded data removed]",
            "text/plain": [
              "<Figure size 432x288 with 1 Axes>"
            ]
          },
          "metadata": {
            "tags": [],
            "needs_background": "light"
          }
        }
      ]
    },
    {
      "cell_type": "code",
      "metadata": {
        "id": "uyew5dd964k5"
      },
      "source": [
        ""
      ],
      "execution_count": 55,
      "outputs": []
    },
    {
      "cell_type": "markdown",
      "metadata": {
        "id": "zRk2JAz464k5"
      },
      "source": [
        "# STEP #3: PREPARE THE DATA FOR TRAINING/ DATA CLEANING "
      ]
    },
    {
      "cell_type": "code",
      "metadata": {
        "colab": {
          "base_uri": "https://localhost:8080/",
          "height": 111
        },
        "id": "FkOVEt-E64k6",
        "outputId": "43e95c9e-1381-4e10-c273-9b0b52b5a66a"
      },
      "source": [
        "training_set.head(2)"
      ],
      "execution_count": 56,
      "outputs": [
        {
          "output_type": "execute_result",
          "data": {
            "text/html": [
              "<div>\n",
              "<style scoped>\n",
              "    .dataframe tbody tr th:only-of-type {\n",
              "        vertical-align: middle;\n",
              "    }\n",
              "\n",
              "    .dataframe tbody tr th {\n",
              "        vertical-align: top;\n",
              "    }\n",
              "\n",
              "    .dataframe thead th {\n",
              "        text-align: right;\n",
              "    }\n",
              "</style>\n",
              "<table border=\"1\" class=\"dataframe\">\n",
              "  <thead>\n",
              "    <tr style=\"text-align: right;\">\n",
              "      <th></th>\n",
              "      <th>Names</th>\n",
              "      <th>emails</th>\n",
              "      <th>Country</th>\n",
              "      <th>Time Spent on Site</th>\n",
              "      <th>Salary</th>\n",
              "      <th>Clicked</th>\n",
              "    </tr>\n",
              "  </thead>\n",
              "  <tbody>\n",
              "    <tr>\n",
              "      <th>0</th>\n",
              "      <td>Martina Avila</td>\n",
              "      <td>cubilia.Curae.Phasellus@quisaccumsanconvallis.edu</td>\n",
              "      <td>Bulgaria</td>\n",
              "      <td>25.649648</td>\n",
              "      <td>55330.06006</td>\n",
              "      <td>0</td>\n",
              "    </tr>\n",
              "    <tr>\n",
              "      <th>1</th>\n",
              "      <td>Harlan Barnes</td>\n",
              "      <td>eu.dolor@diam.co.uk</td>\n",
              "      <td>Belize</td>\n",
              "      <td>32.456107</td>\n",
              "      <td>79049.07674</td>\n",
              "      <td>1</td>\n",
              "    </tr>\n",
              "  </tbody>\n",
              "</table>\n",
              "</div>"
            ],
            "text/plain": [
              "           Names  ... Clicked\n",
              "0  Martina Avila  ...       0\n",
              "1  Harlan Barnes  ...       1\n",
              "\n",
              "[2 rows x 6 columns]"
            ]
          },
          "metadata": {
            "tags": []
          },
          "execution_count": 56
        }
      ]
    },
    {
      "cell_type": "code",
      "metadata": {
        "id": "E8xRC4GO64k7"
      },
      "source": [
        "#Let's drop the emails, country and names (we can make use of the country later!)\n",
        "training_set.drop(['Names', 'emails', 'Country'], axis=1, inplace=True)"
      ],
      "execution_count": 57,
      "outputs": []
    },
    {
      "cell_type": "code",
      "metadata": {
        "colab": {
          "base_uri": "https://localhost:8080/",
          "height": 204
        },
        "id": "Xns_gEiu64k9",
        "outputId": "4cc3bd89-2ac2-424e-8c3a-660bde5f3c2c"
      },
      "source": [
        "training_set.head()"
      ],
      "execution_count": 58,
      "outputs": [
        {
          "output_type": "execute_result",
          "data": {
            "text/html": [
              "<div>\n",
              "<style scoped>\n",
              "    .dataframe tbody tr th:only-of-type {\n",
              "        vertical-align: middle;\n",
              "    }\n",
              "\n",
              "    .dataframe tbody tr th {\n",
              "        vertical-align: top;\n",
              "    }\n",
              "\n",
              "    .dataframe thead th {\n",
              "        text-align: right;\n",
              "    }\n",
              "</style>\n",
              "<table border=\"1\" class=\"dataframe\">\n",
              "  <thead>\n",
              "    <tr style=\"text-align: right;\">\n",
              "      <th></th>\n",
              "      <th>Time Spent on Site</th>\n",
              "      <th>Salary</th>\n",
              "      <th>Clicked</th>\n",
              "    </tr>\n",
              "  </thead>\n",
              "  <tbody>\n",
              "    <tr>\n",
              "      <th>0</th>\n",
              "      <td>25.649648</td>\n",
              "      <td>55330.06006</td>\n",
              "      <td>0</td>\n",
              "    </tr>\n",
              "    <tr>\n",
              "      <th>1</th>\n",
              "      <td>32.456107</td>\n",
              "      <td>79049.07674</td>\n",
              "      <td>1</td>\n",
              "    </tr>\n",
              "    <tr>\n",
              "      <th>2</th>\n",
              "      <td>20.945978</td>\n",
              "      <td>41098.60826</td>\n",
              "      <td>0</td>\n",
              "    </tr>\n",
              "    <tr>\n",
              "      <th>3</th>\n",
              "      <td>54.039325</td>\n",
              "      <td>37143.35536</td>\n",
              "      <td>1</td>\n",
              "    </tr>\n",
              "    <tr>\n",
              "      <th>4</th>\n",
              "      <td>34.249729</td>\n",
              "      <td>37355.11276</td>\n",
              "      <td>0</td>\n",
              "    </tr>\n",
              "  </tbody>\n",
              "</table>\n",
              "</div>"
            ],
            "text/plain": [
              "   Time Spent on Site       Salary  Clicked\n",
              "0           25.649648  55330.06006        0\n",
              "1           32.456107  79049.07674        1\n",
              "2           20.945978  41098.60826        0\n",
              "3           54.039325  37143.35536        1\n",
              "4           34.249729  37355.11276        0"
            ]
          },
          "metadata": {
            "tags": []
          },
          "execution_count": 58
        }
      ]
    },
    {
      "cell_type": "code",
      "metadata": {
        "id": "sc5W_LoV64k9"
      },
      "source": [
        "#Let's drop the target coloumn before we do train test split\n",
        "x = training_set.drop('Clicked', axis=1).values\n",
        "\n",
        "y = training_set['Clicked'].values"
      ],
      "execution_count": 59,
      "outputs": []
    },
    {
      "cell_type": "code",
      "metadata": {
        "colab": {
          "base_uri": "https://localhost:8080/"
        },
        "id": "KJuD70_gEmH4",
        "outputId": "19932eb8-7417-4a29-c257-01b9b6507852"
      },
      "source": [
        "x"
      ],
      "execution_count": 60,
      "outputs": [
        {
          "output_type": "execute_result",
          "data": {
            "text/plain": [
              "array([[2.56496480e+01, 5.53300601e+04],\n",
              "       [3.24561067e+01, 7.90490767e+04],\n",
              "       [2.09459779e+01, 4.10986083e+04],\n",
              "       [5.40393248e+01, 3.71433554e+04],\n",
              "       [3.42497288e+01, 3.73551128e+04],\n",
              "       [5.20099460e+01, 8.06426522e+04],\n",
              "       [4.28813696e+01, 6.19083982e+04],\n",
              "       [2.56769196e+01, 2.98514115e+04],\n",
              "       [4.06982326e+01, 3.42811188e+04],\n",
              "       [2.96873619e+01, 4.10988788e+04],\n",
              "       [3.32725720e+01, 5.41270171e+04],\n",
              "       [3.45308979e+01, 3.02219371e+04],\n",
              "       [2.53136952e+01, 4.37639976e+04],\n",
              "       [4.65407082e+01, 4.86634947e+04],\n",
              "       [3.77165819e+01, 6.46959770e+04],\n",
              "       [2.50567822e+01, 1.77599339e+04],\n",
              "       [4.10959602e+01, 4.94633813e+04],\n",
              "       [2.47615633e+01, 3.84844232e+04],\n",
              "       [4.88701755e+01, 3.47744441e+04],\n",
              "       [2.78338319e+01, 5.16444933e+04],\n",
              "       [1.71035757e+01, 6.16617652e+04],\n",
              "       [2.55977957e+01, 5.36307638e+04],\n",
              "       [4.22491897e+01, 3.22150995e+04],\n",
              "       [3.71359218e+01, 5.17336572e+04],\n",
              "       [3.24431111e+01, 5.16776990e+04],\n",
              "       [1.99366738e+01, 3.42637885e+04],\n",
              "       [3.98205393e+01, 7.05033132e+04],\n",
              "       [3.07288550e+01, 6.70222730e+04],\n",
              "       [2.40435827e+01, 3.64747097e+04],\n",
              "       [3.90560356e+01, 2.91783610e+04],\n",
              "       [3.12469528e+01, 7.60643837e+04],\n",
              "       [3.60573969e+01, 6.52029101e+04],\n",
              "       [1.99109736e+01, 3.28945211e+04],\n",
              "       [2.24559772e+01, 4.77700703e+04],\n",
              "       [3.67657158e+01, 5.34644264e+04],\n",
              "       [3.59575676e+01, 2.36833077e+04],\n",
              "       [4.19899262e+01, 5.47269945e+04],\n",
              "       [3.45416750e+01, 7.81564644e+04],\n",
              "       [2.48281717e+01, 4.31269171e+04],\n",
              "       [3.85916733e+01, 5.45242749e+04],\n",
              "       [3.05154930e+01, 1.20660167e+04],\n",
              "       [2.89448700e+01, 2.98994691e+04],\n",
              "       [4.09839628e+01, 4.55914541e+04],\n",
              "       [2.76038406e+01, 3.22423240e+04],\n",
              "       [1.90893032e+01, 3.92798893e+04],\n",
              "       [1.88815858e+01, 5.25189951e+04],\n",
              "       [2.07144638e+01, 3.39930522e+04],\n",
              "       [2.74038095e+01, 4.80260228e+04],\n",
              "       [3.90490584e+01, 7.35165789e+04],\n",
              "       [3.62967505e+01, 2.93548248e+04],\n",
              "       [3.88067588e+01, 6.12989152e+04],\n",
              "       [2.62443824e+01, 6.13471666e+04],\n",
              "       [2.07768912e+01, 2.56426419e+04],\n",
              "       [2.60097999e+01, 3.69483513e+04],\n",
              "       [6.00000000e+01, 7.64991193e+04],\n",
              "       [2.74320282e+01, 4.08144763e+04],\n",
              "       [2.63876221e+01, 3.70802788e+04],\n",
              "       [4.70705902e+01, 8.07098390e+04],\n",
              "       [4.18076397e+01, 7.95235748e+04],\n",
              "       [3.68088102e+01, 8.12824122e+04],\n",
              "       [2.98432039e+01, 1.00000000e+05],\n",
              "       [4.19628357e+01, 6.34792556e+04],\n",
              "       [4.29084570e+01, 5.58967506e+04],\n",
              "       [3.15183734e+01, 3.52772568e+04],\n",
              "       [4.44492861e+01, 7.80397881e+04],\n",
              "       [3.86520504e+01, 5.77934256e+04],\n",
              "       [2.98597461e+01, 4.94642315e+04],\n",
              "       [3.18710838e+01, 5.68627176e+04],\n",
              "       [3.51243059e+01, 7.14804800e+04],\n",
              "       [4.36229793e+01, 4.39387766e+04],\n",
              "       [2.78047431e+01, 3.86511302e+04],\n",
              "       [4.14575777e+01, 7.59232499e+04],\n",
              "       [2.64102406e+01, 5.53887145e+04],\n",
              "       [2.47085321e+01, 5.81645968e+04],\n",
              "       [3.82419630e+01, 5.28409131e+04],\n",
              "       [5.30739074e+01, 6.53448407e+04],\n",
              "       [3.81654874e+01, 2.87283204e+04],\n",
              "       [2.64081753e+01, 2.83492112e+04],\n",
              "       [1.98456916e+01, 1.92957707e+04],\n",
              "       [4.64672263e+01, 6.89877084e+04],\n",
              "       [2.78707542e+01, 2.35527653e+04],\n",
              "       [3.76250690e+01, 5.10373533e+04],\n",
              "       [1.56195277e+01, 3.15306152e+04],\n",
              "       [4.27702221e+01, 7.06512880e+04],\n",
              "       [2.97700309e+01, 7.25353009e+04],\n",
              "       [3.05759060e+01, 6.57428549e+04],\n",
              "       [3.17184722e+01, 7.30469351e+04],\n",
              "       [4.13595971e+01, 7.31578464e+04],\n",
              "       [2.72932799e+01, 5.25870476e+04],\n",
              "       [2.57989330e+01, 3.05411407e+04],\n",
              "       [3.96323569e+01, 7.72452348e+04],\n",
              "       [2.01683006e+01, 3.44984851e+04],\n",
              "       [4.44626110e+01, 6.30841640e+04],\n",
              "       [1.18632392e+01, 4.56220797e+04],\n",
              "       [4.84830316e+01, 6.64396506e+04],\n",
              "       [1.89982488e+01, 5.08822378e+04],\n",
              "       [2.46473139e+01, 4.42890324e+04],\n",
              "       [2.88636415e+01, 5.55952863e+04],\n",
              "       [1.28660315e+01, 2.71482792e+04],\n",
              "       [3.39072519e+01, 7.76114340e+04],\n",
              "       [3.61805198e+01, 4.51518587e+04],\n",
              "       [2.33583459e+01, 6.04214985e+04],\n",
              "       [3.01087326e+01, 5.49428498e+04],\n",
              "       [3.22728796e+01, 5.20206482e+04],\n",
              "       [3.84835203e+01, 4.43716033e+04],\n",
              "       [3.26617715e+01, 7.50111592e+04],\n",
              "       [2.59102767e+01, 2.00000000e+01],\n",
              "       [4.58671019e+01, 9.62048047e+04],\n",
              "       [4.15015106e+01, 6.56909720e+04],\n",
              "       [3.35211027e+01, 5.68019297e+04],\n",
              "       [4.16906638e+01, 9.01061368e+04],\n",
              "       [3.40603181e+01, 5.59829773e+04],\n",
              "       [3.99038194e+01, 6.62936664e+04],\n",
              "       [3.65168217e+01, 8.80452187e+04],\n",
              "       [3.36216471e+01, 5.23472683e+04],\n",
              "       [3.66936068e+01, 8.48196717e+04],\n",
              "       [4.70029177e+01, 6.72504280e+04],\n",
              "       [3.07828560e+01, 2.63116347e+04],\n",
              "       [4.04881779e+01, 6.35148227e+04],\n",
              "       [3.33001853e+01, 6.66053872e+04],\n",
              "       [2.43522694e+01, 3.99418770e+04],\n",
              "       [2.92274561e+01, 6.56770925e+04],\n",
              "       [2.34040158e+01, 6.50570982e+04],\n",
              "       [3.36535297e+01, 5.58835779e+04],\n",
              "       [2.64043699e+01, 4.20142779e+04],\n",
              "       [3.94479733e+01, 8.19588499e+04],\n",
              "       [2.53150925e+01, 8.24522050e+04],\n",
              "       [3.19394817e+01, 1.85545163e+04],\n",
              "       [3.12675209e+01, 4.19415935e+04],\n",
              "       [2.32967542e+01, 5.25647603e+04],\n",
              "       [3.82224063e+01, 4.12017892e+04],\n",
              "       [3.78973797e+01, 6.02712819e+04],\n",
              "       [3.58378083e+01, 5.37247624e+04],\n",
              "       [1.76520265e+01, 4.44822280e+04],\n",
              "       [1.92478156e+01, 4.55278159e+04],\n",
              "       [2.34295576e+01, 2.62158445e+04],\n",
              "       [3.45075444e+01, 9.28476870e+04],\n",
              "       [2.44172577e+01, 4.96602012e+04],\n",
              "       [4.75338721e+01, 9.30244902e+04],\n",
              "       [4.02186098e+01, 6.74915973e+04],\n",
              "       [2.48800244e+01, 4.59245731e+04],\n",
              "       [3.47208925e+01, 8.07450096e+04],\n",
              "       [2.79499985e+01, 5.64031686e+04],\n",
              "       [3.93494331e+01, 7.34995525e+04],\n",
              "       [3.62094825e+01, 5.90173618e+04],\n",
              "       [2.94685012e+01, 6.91074801e+04],\n",
              "       [1.05088058e+01, 3.93819303e+04],\n",
              "       [3.55537203e+01, 7.11092738e+04],\n",
              "       [2.71781871e+01, 5.49945466e+04],\n",
              "       [2.34963782e+01, 4.33450950e+04],\n",
              "       [2.51426733e+01, 5.51603155e+04],\n",
              "       [4.04586230e+01, 5.39662825e+04],\n",
              "       [3.88574063e+01, 5.53588182e+04],\n",
              "       [2.95762982e+01, 5.28261559e+04],\n",
              "       [3.05571377e+01, 9.28650557e+04],\n",
              "       [3.07305865e+01, 4.70127276e+04],\n",
              "       [2.89227932e+01, 4.01108134e+04],\n",
              "       [3.53594502e+01, 6.92518256e+04],\n",
              "       [3.71130641e+01, 7.62215378e+04],\n",
              "       [3.26071089e+01, 5.18356482e+04],\n",
              "       [4.88615514e+01, 7.31418533e+04],\n",
              "       [3.29495012e+01, 5.82441939e+04],\n",
              "       [4.05171459e+01, 6.83686549e+04],\n",
              "       [5.02727593e+01, 7.53052538e+04],\n",
              "       [2.55784141e+01, 5.20516990e+03],\n",
              "       [2.85502371e+01, 3.66215980e+04],\n",
              "       [3.58429434e+01, 3.40393164e+04],\n",
              "       [3.09678423e+01, 7.35653177e+04],\n",
              "       [4.21360295e+01, 6.02607094e+04],\n",
              "       [3.27193725e+01, 3.83681890e+04],\n",
              "       [4.44281531e+01, 8.68954755e+04],\n",
              "       [3.06380380e+01, 6.43160472e+04],\n",
              "       [4.21512391e+01, 2.43257387e+04],\n",
              "       [5.64346841e+01, 6.09760709e+04],\n",
              "       [4.17687666e+01, 4.75629084e+04],\n",
              "       [2.02896816e+01, 4.50124987e+04],\n",
              "       [3.55764783e+01, 8.30649588e+04],\n",
              "       [2.52497547e+01, 3.09207978e+04],\n",
              "       [2.90580662e+01, 5.49696410e+04],\n",
              "       [2.98467125e+01, 5.66656620e+04],\n",
              "       [1.86808045e+01, 9.25967472e+04],\n",
              "       [4.65255251e+01, 8.65549597e+04],\n",
              "       [2.98234139e+01, 4.18080756e+04],\n",
              "       [2.36539263e+01, 2.98081136e+04],\n",
              "       [3.35206399e+01, 5.08886432e+04],\n",
              "       [3.36468646e+01, 3.22937462e+04],\n",
              "       [2.93024745e+01, 6.71909142e+04],\n",
              "       [4.69952054e+01, 8.92275799e+04],\n",
              "       [3.14744305e+01, 2.43835039e+04],\n",
              "       [3.83222896e+01, 5.33603852e+04],\n",
              "       [5.13421647e+01, 4.56862872e+04],\n",
              "       [1.08648566e+01, 1.58098138e+04],\n",
              "       [2.45302413e+01, 5.20680244e+04],\n",
              "       [2.94593914e+01, 3.70891522e+04],\n",
              "       [3.65963509e+01, 7.22433880e+04],\n",
              "       [3.34374530e+01, 4.17738614e+04],\n",
              "       [3.54968913e+01, 6.58229465e+04],\n",
              "       [3.58261948e+01, 3.87047313e+04],\n",
              "       [4.05230999e+01, 7.73750093e+04],\n",
              "       [2.24005459e+01, 4.84320286e+04],\n",
              "       [3.60493548e+01, 6.12334584e+04],\n",
              "       [2.05818871e+01, 2.68769710e+04],\n",
              "       [3.15791966e+01, 3.34654615e+04],\n",
              "       [2.76748132e+01, 4.78163245e+04],\n",
              "       [3.49456435e+01, 3.98152116e+04],\n",
              "       [5.09854022e+01, 6.36950472e+04],\n",
              "       [2.87094124e+01, 6.20576208e+04],\n",
              "       [2.10550822e+01, 5.80889013e+04],\n",
              "       [3.02658664e+01, 8.41002738e+04],\n",
              "       [3.23276139e+01, 3.89146345e+04],\n",
              "       [4.66338684e+01, 6.38534268e+04],\n",
              "       [2.24365194e+01, 5.28514987e+04],\n",
              "       [1.74760982e+01, 4.14639525e+04],\n",
              "       [3.49056635e+01, 3.99907947e+04],\n",
              "       [3.21996490e+01, 3.12847347e+04],\n",
              "       [3.05699441e+01, 6.79629143e+04],\n",
              "       [4.21536527e+01, 4.84468270e+04],\n",
              "       [3.37346415e+01, 6.43891442e+04],\n",
              "       [3.48429402e+01, 3.71456330e+04],\n",
              "       [2.34024184e+01, 4.97089130e+04],\n",
              "       [4.58760735e+01, 5.12880058e+04],\n",
              "       [3.41882996e+01, 1.56386460e+04],\n",
              "       [4.16986703e+01, 4.02140767e+04],\n",
              "       [2.83759392e+01, 9.01441027e+04],\n",
              "       [3.89279450e+01, 6.76260341e+04],\n",
              "       [2.91761896e+01, 3.76848619e+04],\n",
              "       [3.55246959e+01, 5.76413931e+04],\n",
              "       [4.41216767e+01, 5.55535748e+04],\n",
              "       [2.12182337e+01, 3.51163004e+04],\n",
              "       [3.34892043e+01, 8.18233396e+04],\n",
              "       [2.54053312e+01, 1.85417346e+04],\n",
              "       [2.60391521e+01, 7.49110438e+04],\n",
              "       [3.72736113e+01, 5.18749784e+04],\n",
              "       [2.67855469e+01, 5.16913266e+04],\n",
              "       [4.42354581e+01, 9.04593418e+04],\n",
              "       [3.38168131e+01, 4.60637130e+04],\n",
              "       [4.41859134e+01, 6.52458746e+04],\n",
              "       [3.64545684e+01, 4.91028313e+04],\n",
              "       [1.97285622e+01, 4.28761682e+04],\n",
              "       [3.14233710e+01, 6.30276565e+04],\n",
              "       [5.02276799e+01, 3.17073190e+04],\n",
              "       [2.00896906e+01, 3.77504505e+04],\n",
              "       [3.19961024e+01, 4.24196598e+04],\n",
              "       [1.90532074e+01, 4.75509553e+04],\n",
              "       [2.29596116e+01, 3.50480614e+04],\n",
              "       [4.05024428e+01, 5.26236495e+04],\n",
              "       [1.99191528e+01, 3.02012546e+04],\n",
              "       [5.31530788e+01, 4.32935072e+04],\n",
              "       [1.62785413e+01, 3.81544187e+04],\n",
              "       [3.35898056e+01, 5.88336809e+04],\n",
              "       [3.53246912e+01, 8.22836079e+04],\n",
              "       [2.76596200e+01, 1.98624079e+04],\n",
              "       [3.09847257e+01, 1.31762478e+04],\n",
              "       [4.16282937e+01, 6.31236795e+04],\n",
              "       [2.75796440e+01, 5.80939678e+04],\n",
              "       [4.29195153e+01, 5.82811104e+04],\n",
              "       [2.94935216e+01, 3.76118378e+04],\n",
              "       [4.17010252e+01, 8.05431056e+04],\n",
              "       [3.35278138e+01, 6.16304272e+04],\n",
              "       [2.80828173e+01, 5.38798649e+04],\n",
              "       [4.46367583e+01, 3.12828629e+04],\n",
              "       [3.92505596e+01, 4.25048807e+04],\n",
              "       [5.30494259e+01, 7.30433418e+04],\n",
              "       [4.02620984e+01, 6.02817066e+04],\n",
              "       [2.44338404e+01, 2.09347511e+04],\n",
              "       [1.56496290e+01, 4.87558908e+04],\n",
              "       [2.93080549e+01, 3.82412229e+04],\n",
              "       [4.46762203e+01, 5.72179996e+04],\n",
              "       [3.61465810e+01, 7.01632283e+04],\n",
              "       [4.41374215e+01, 5.91564481e+04],\n",
              "       [3.10268869e+01, 3.53412715e+04],\n",
              "       [4.79432454e+01, 6.04167033e+04],\n",
              "       [4.42504089e+01, 7.96791384e+04],\n",
              "       [2.94639341e+01, 5.08829401e+04],\n",
              "       [3.06883631e+01, 8.11296120e+04],\n",
              "       [4.11023440e+01, 8.24049824e+04],\n",
              "       [1.82859931e+01, 3.37365495e+04],\n",
              "       [4.24895681e+01, 6.80543470e+04],\n",
              "       [1.81812869e+01, 7.66354856e+04],\n",
              "       [5.08758779e+01, 5.35622263e+04],\n",
              "       [2.04931223e+01, 4.57289518e+04],\n",
              "       [2.88808244e+01, 3.75927751e+04],\n",
              "       [4.20668915e+01, 8.32775478e+04],\n",
              "       [2.64398469e+01, 4.20160028e+04],\n",
              "       [2.82513675e+01, 5.72757294e+04],\n",
              "       [5.00446542e+01, 6.94613272e+04],\n",
              "       [2.26276345e+01, 2.50311485e+04],\n",
              "       [4.62940030e+01, 5.15310813e+04],\n",
              "       [3.30530972e+01, 7.43293176e+04],\n",
              "       [4.87944133e+01, 5.56330384e+04],\n",
              "       [3.03885345e+01, 3.34878539e+04],\n",
              "       [2.77068380e+01, 4.86595672e+04],\n",
              "       [4.03144981e+01, 3.16240643e+04],\n",
              "       [2.30545686e+01, 3.79809265e+04],\n",
              "       [4.54947046e+01, 6.76608800e+04],\n",
              "       [3.84224037e+01, 6.08942207e+04],\n",
              "       [3.68194876e+01, 7.50994215e+04],\n",
              "       [3.13600177e+01, 5.46555805e+04],\n",
              "       [1.19312672e+01, 5.40936393e+04],\n",
              "       [3.65010819e+01, 4.83171276e+04],\n",
              "       [1.92928807e+01, 5.09914299e+04],\n",
              "       [3.22365399e+01, 3.07723306e+04],\n",
              "       [5.36642156e+01, 5.32103591e+04],\n",
              "       [1.55571184e+01, 5.50529108e+04],\n",
              "       [3.38919177e+01, 5.81877770e+04],\n",
              "       [4.40125057e+01, 6.28544185e+04],\n",
              "       [1.32192063e+01, 4.16868220e+04],\n",
              "       [2.24622381e+01, 7.05078497e+03],\n",
              "       [4.38804479e+01, 7.73716486e+04],\n",
              "       [2.99884778e+01, 7.70597541e+04],\n",
              "       [2.70225659e+01, 4.97952566e+04],\n",
              "       [3.08517410e+01, 3.05623709e+04],\n",
              "       [3.09688672e+01, 2.97248206e+04],\n",
              "       [3.86204546e+01, 4.83434430e+04],\n",
              "       [4.20103219e+01, 6.20454180e+04],\n",
              "       [2.46337620e+01, 2.77924584e+04],\n",
              "       [1.39808525e+01, 4.56227404e+04],\n",
              "       [4.64031668e+01, 5.60888412e+04],\n",
              "       [2.87550671e+01, 6.91307914e+04],\n",
              "       [1.89299435e+01, 6.49805059e+04],\n",
              "       [3.53577092e+01, 2.51504865e+04],\n",
              "       [5.40029692e+01, 4.43733982e+04],\n",
              "       [4.31727088e+01, 4.10330523e+04],\n",
              "       [3.39976171e+01, 3.82732827e+04],\n",
              "       [3.91739534e+01, 7.79001814e+04],\n",
              "       [3.66081961e+01, 6.50440619e+04],\n",
              "       [4.29033431e+01, 7.84016720e+04],\n",
              "       [3.75668643e+01, 4.03835557e+04],\n",
              "       [7.52147958e+00, 2.28392538e+04],\n",
              "       [3.24551760e+01, 3.15311236e+04],\n",
              "       [4.37509751e+01, 5.07779969e+04],\n",
              "       [4.45507249e+01, 5.85982680e+04],\n",
              "       [2.91892923e+01, 5.26774063e+04],\n",
              "       [3.49045688e+01, 5.58649643e+04],\n",
              "       [3.72133623e+01, 5.58372154e+04],\n",
              "       [3.46248290e+01, 6.16963336e+04],\n",
              "       [3.20248700e+01, 5.05279872e+04],\n",
              "       [3.72784531e+01, 5.01587456e+04],\n",
              "       [4.83499305e+01, 5.50066401e+04],\n",
              "       [4.02859551e+01, 2.02595157e+04],\n",
              "       [3.10091944e+01, 5.11629918e+04],\n",
              "       [3.98514304e+01, 9.49504212e+04],\n",
              "       [3.31960665e+01, 8.90519931e+04],\n",
              "       [4.56635019e+01, 7.78794670e+04],\n",
              "       [4.06265620e+01, 5.94773823e+04],\n",
              "       [4.67292085e+01, 6.99166687e+04],\n",
              "       [2.90471256e+01, 3.91057208e+04],\n",
              "       [3.76422783e+01, 4.67364633e+04],\n",
              "       [3.35228988e+01, 5.07025233e+04],\n",
              "       [2.46587450e+01, 3.65368270e+04],\n",
              "       [2.83718984e+01, 2.59332721e+04],\n",
              "       [3.03911016e+01, 5.95194309e+04],\n",
              "       [3.75322198e+01, 5.30406126e+04],\n",
              "       [2.41169889e+01, 4.76988250e+04],\n",
              "       [2.97587774e+01, 3.04451602e+04],\n",
              "       [3.37387837e+01, 7.00334087e+04],\n",
              "       [3.96055870e+01, 6.18209676e+04],\n",
              "       [3.77133500e+01, 5.56427984e+04],\n",
              "       [3.14376244e+01, 7.55202631e+04],\n",
              "       [4.07604306e+01, 6.09654312e+04],\n",
              "       [4.59108749e+01, 7.33738833e+04],\n",
              "       [1.14513664e+01, 3.50436278e+04],\n",
              "       [3.68739121e+01, 8.79079885e+04],\n",
              "       [4.01293959e+01, 7.55940569e+04],\n",
              "       [2.03325090e+01, 3.80574069e+04],\n",
              "       [2.13043705e+01, 6.71681827e+04],\n",
              "       [1.70969669e+01, 5.92288574e+04],\n",
              "       [4.46614374e+01, 7.54262811e+04],\n",
              "       [2.53644089e+01, 5.63138498e+04],\n",
              "       [2.31811889e+01, 4.23325529e+04],\n",
              "       [2.69134953e+01, 6.14184478e+04],\n",
              "       [3.42496271e+01, 4.09729123e+04],\n",
              "       [2.75763785e+01, 6.58516299e+04],\n",
              "       [3.38398041e+01, 1.90319734e+04],\n",
              "       [3.29782551e+01, 8.07118539e+04],\n",
              "       [3.15848147e+01, 2.94242919e+04],\n",
              "       [3.31447033e+01, 8.26938135e+04],\n",
              "       [1.87660715e+01, 3.94139610e+04],\n",
              "       [3.87964343e+01, 7.30021659e+04],\n",
              "       [3.58344010e+01, 5.53337266e+04],\n",
              "       [4.26448395e+01, 6.92626286e+04],\n",
              "       [3.40982121e+01, 7.46686623e+04],\n",
              "       [2.63401697e+01, 3.72252184e+04],\n",
              "       [4.31409979e+01, 6.38319352e+04],\n",
              "       [2.94884279e+01, 2.59826755e+04],\n",
              "       [2.09270422e+01, 4.84517856e+04],\n",
              "       [2.66190018e+01, 7.65055587e+04],\n",
              "       [5.15137341e+01, 7.27355602e+04],\n",
              "       [3.93612268e+01, 8.09091834e+04],\n",
              "       [2.76704795e+01, 3.99315375e+03],\n",
              "       [3.01935619e+01, 4.38217606e+04],\n",
              "       [4.16056042e+01, 8.08056850e+04],\n",
              "       [1.62973421e+01, 3.29205222e+04],\n",
              "       [2.62983302e+01, 6.53985233e+04],\n",
              "       [3.64981020e+01, 9.43154570e+04],\n",
              "       [4.33218399e+01, 5.99467138e+04],\n",
              "       [3.49622578e+01, 6.00742374e+04],\n",
              "       [2.40929521e+01, 1.89076728e+04],\n",
              "       [3.50974580e+01, 6.96371438e+04],\n",
              "       [3.94615261e+01, 3.38436573e+04],\n",
              "       [4.01464219e+01, 7.44447505e+04],\n",
              "       [2.81490614e+01, 6.28807355e+04],\n",
              "       [3.01459702e+01, 2.02076022e+04],\n",
              "       [2.77299030e+01, 4.70935415e+04],\n",
              "       [2.39730129e+01, 2.57108564e+04],\n",
              "       [3.09168263e+01, 1.91234664e+04],\n",
              "       [2.55517556e+01, 2.10766039e+04],\n",
              "       [3.82460146e+01, 9.51001224e+04],\n",
              "       [3.73036174e+01, 6.20529800e+04],\n",
              "       [2.57092621e+01, 5.55648761e+04],\n",
              "       [3.86187187e+01, 5.83652099e+04],\n",
              "       [2.09930210e+01, 3.61713548e+04],\n",
              "       [2.52074011e+01, 7.78881047e+04],\n",
              "       [2.97218206e+01, 7.72404617e+04],\n",
              "       [3.59327372e+01, 3.16440008e+04],\n",
              "       [4.95562172e+01, 6.61547259e+04],\n",
              "       [3.57666657e+01, 8.56624067e+04],\n",
              "       [2.79083453e+01, 3.96153915e+04],\n",
              "       [4.48882539e+01, 5.46828834e+04],\n",
              "       [3.60570632e+01, 5.01058751e+04],\n",
              "       [3.44856335e+01, 2.26044144e+04],\n",
              "       [3.75289036e+01, 6.28503249e+04],\n",
              "       [2.30900303e+01, 4.06486939e+04],\n",
              "       [3.01727926e+01, 1.87769570e+04],\n",
              "       [4.31866888e+01, 9.04941064e+04],\n",
              "       [4.64530762e+01, 7.04866635e+04],\n",
              "       [3.53132725e+01, 5.48460347e+04],\n",
              "       [3.02230794e+01, 3.34663045e+04],\n",
              "       [4.45466301e+01, 6.50837736e+04],\n",
              "       [2.52541766e+01, 4.47565307e+04],\n",
              "       [3.11819570e+01, 6.07724248e+04],\n",
              "       [4.22533442e+01, 6.65640357e+04],\n",
              "       [3.02905373e+01, 6.51319974e+04],\n",
              "       [2.97517687e+01, 5.35573493e+04],\n",
              "       [3.56528243e+01, 7.64907446e+04],\n",
              "       [1.31940548e+01, 2.42310876e+04],\n",
              "       [2.53912830e+01, 4.76459332e+04],\n",
              "       [3.86826695e+01, 4.32365048e+04],\n",
              "       [3.86141982e+01, 6.71351687e+04],\n",
              "       [3.47497131e+01, 4.90529039e+04],\n",
              "       [2.94013181e+01, 5.07783390e+04],\n",
              "       [2.94545777e+01, 1.40077980e+04],\n",
              "       [3.32317457e+01, 3.37791062e+04],\n",
              "       [7.76437276e+00, 3.42211151e+04],\n",
              "       [2.13738297e+01, 3.88616000e+04],\n",
              "       [2.47096188e+01, 6.96708045e+04],\n",
              "       [3.29502601e+01, 4.31351392e+04],\n",
              "       [2.89218007e+01, 2.75120896e+04],\n",
              "       [3.18131530e+01, 3.56996891e+04],\n",
              "       [2.73395507e+01, 4.15569623e+04],\n",
              "       [3.69992238e+01, 4.49688217e+04],\n",
              "       [3.38006386e+01, 4.55029770e+04],\n",
              "       [3.53065213e+01, 1.23189649e+04],\n",
              "       [2.91566541e+01, 3.93942836e+04],\n",
              "       [3.75858120e+01, 2.37741186e+04],\n",
              "       [3.70851050e+01, 9.15689722e+04],\n",
              "       [1.50483464e+01, 9.76462204e+04],\n",
              "       [2.53668084e+01, 3.71920171e+04],\n",
              "       [3.63245104e+01, 7.65481526e+04],\n",
              "       [3.69195856e+01, 6.16685598e+04],\n",
              "       [2.74554865e+01, 4.01066055e+04],\n",
              "       [3.77495494e+01, 7.36874770e+04],\n",
              "       [2.29045330e+01, 3.44986590e+04],\n",
              "       [3.71732810e+01, 6.31006724e+04],\n",
              "       [4.99687325e+01, 7.18439705e+04],\n",
              "       [4.45002065e+01, 5.21402841e+04],\n",
              "       [3.80050727e+01, 6.30045419e+04],\n",
              "       [2.65417428e+01, 5.09679878e+04],\n",
              "       [4.16975275e+01, 5.45209872e+04],\n",
              "       [3.04340351e+01, 4.04468480e+04],\n",
              "       [2.82743386e+01, 8.23956369e+04],\n",
              "       [4.07362791e+01, 3.53232010e+04],\n",
              "       [2.35566757e+01, 4.30725675e+04],\n",
              "       [3.78430726e+01, 5.78413598e+04],\n",
              "       [4.48934669e+01, 7.18404046e+04],\n",
              "       [2.32772817e+01, 4.07650438e+04],\n",
              "       [3.70148953e+01, 7.30572445e+04],\n",
              "       [2.50876170e+01, 6.16533831e+04],\n",
              "       [2.07061007e+01, 7.14772354e+03],\n",
              "       [4.21902794e+01, 4.80205680e+04],\n",
              "       [4.28852972e+01, 5.81622850e+04],\n",
              "       [2.24394882e+01, 3.59178482e+04],\n",
              "       [3.76740583e+01, 6.20344860e+04],\n",
              "       [2.04208922e+01, 4.01141562e+04],\n",
              "       [3.69023777e+01, 3.25830242e+04],\n",
              "       [3.33490368e+01, 5.20209165e+04],\n",
              "       [4.15443044e+01, 5.57926985e+04],\n",
              "       [4.32815864e+01, 5.41236465e+04],\n",
              "       [2.43310544e+01, 5.98735170e+04],\n",
              "       [2.38653708e+01, 2.34398678e+04],\n",
              "       [3.48283033e+01, 5.01513262e+04],\n",
              "       [3.71732155e+01, 6.37504156e+04],\n",
              "       [5.00000000e+00, 4.73295658e+04],\n",
              "       [2.46152275e+01, 3.47217486e+04],\n",
              "       [1.92227465e+01, 4.49691349e+04],\n",
              "       [2.26656616e+01, 4.16862043e+04],\n",
              "       [3.53202387e+01, 2.39898086e+04],\n",
              "       [2.65391702e+01, 3.17085705e+04],\n",
              "       [3.23861478e+01, 7.43313544e+04]])"
            ]
          },
          "metadata": {
            "tags": []
          },
          "execution_count": 60
        }
      ]
    },
    {
      "cell_type": "code",
      "metadata": {
        "colab": {
          "base_uri": "https://localhost:8080/"
        },
        "id": "6CaLibRzEmKy",
        "outputId": "f4ee2e8b-ace5-4ace-bd61-40997500756a"
      },
      "source": [
        "y "
      ],
      "execution_count": 61,
      "outputs": [
        {
          "output_type": "execute_result",
          "data": {
            "text/plain": [
              "array([0, 1, 0, 1, 0, 1, 1, 0, 1, 0, 0, 0, 0, 1, 1, 0, 1, 0, 1, 0, 0, 0,\n",
              "       1, 1, 0, 0, 1, 1, 1, 0, 1, 1, 0, 0, 0, 0, 1, 1, 0, 1, 0, 0, 1, 0,\n",
              "       0, 0, 1, 0, 1, 1, 1, 0, 0, 0, 1, 0, 0, 1, 1, 1, 1, 1, 1, 0, 1, 1,\n",
              "       0, 1, 1, 0, 0, 1, 0, 0, 0, 1, 0, 0, 0, 1, 0, 1, 0, 1, 1, 1, 1, 1,\n",
              "       1, 0, 1, 0, 1, 0, 1, 0, 1, 0, 0, 1, 1, 0, 1, 1, 1, 1, 0, 1, 1, 1,\n",
              "       1, 1, 1, 1, 1, 1, 1, 0, 1, 0, 0, 1, 0, 0, 0, 1, 1, 0, 0, 1, 1, 1,\n",
              "       1, 0, 0, 0, 1, 0, 1, 1, 0, 1, 0, 1, 1, 1, 0, 1, 0, 0, 0, 1, 1, 0,\n",
              "       1, 0, 0, 1, 1, 1, 1, 1, 1, 1, 0, 0, 0, 0, 1, 0, 1, 1, 1, 1, 1, 0,\n",
              "       1, 0, 0, 0, 1, 1, 0, 0, 0, 0, 0, 1, 0, 1, 1, 0, 0, 0, 1, 0, 1, 0,\n",
              "       1, 0, 1, 0, 0, 0, 0, 1, 0, 0, 1, 0, 1, 0, 0, 0, 0, 1, 1, 1, 0, 0,\n",
              "       1, 0, 1, 1, 1, 0, 1, 1, 0, 1, 0, 1, 1, 1, 1, 0, 1, 0, 0, 1, 0, 0,\n",
              "       0, 0, 0, 1, 0, 1, 0, 1, 1, 0, 0, 1, 1, 1, 0, 1, 1, 0, 1, 1, 1, 1,\n",
              "       0, 0, 0, 1, 1, 1, 0, 1, 1, 0, 1, 1, 0, 1, 0, 1, 0, 0, 1, 0, 1, 1,\n",
              "       0, 1, 1, 1, 0, 0, 0, 0, 1, 0, 1, 0, 0, 0, 0, 0, 1, 0, 0, 1, 0, 0,\n",
              "       1, 1, 0, 0, 0, 1, 1, 0, 0, 1, 1, 0, 0, 1, 1, 0, 1, 1, 1, 0, 0, 0,\n",
              "       1, 1, 0, 0, 1, 1, 0, 0, 1, 0, 0, 1, 1, 1, 1, 1, 1, 1, 0, 0, 0, 1,\n",
              "       1, 0, 0, 1, 1, 1, 0, 1, 1, 0, 1, 1, 0, 0, 0, 1, 0, 0, 0, 0, 0, 0,\n",
              "       1, 0, 1, 0, 1, 1, 1, 1, 0, 1, 0, 0, 1, 1, 1, 0, 0, 1, 0, 1, 1, 1,\n",
              "       1, 0, 1, 0, 1, 0, 0, 0, 0, 0, 0, 1, 1, 0, 1, 0, 1, 1, 0, 1, 1, 0,\n",
              "       1, 1, 0, 1, 0, 0, 1, 1, 1, 0, 1, 0, 0, 1, 0, 0, 1, 0, 0, 0, 1, 1,\n",
              "       0, 0, 0, 0, 1, 1, 0, 0, 0, 0, 0, 0, 0, 0, 0, 1, 0, 0, 1, 1, 0, 1,\n",
              "       0, 1, 1, 1, 1, 0, 1, 0, 1, 1, 0, 0, 1, 0, 1, 0, 0, 1, 1, 0, 1, 0,\n",
              "       0, 1, 1, 1, 0, 0, 1, 1, 0, 0, 0, 0, 0, 0, 1])"
            ]
          },
          "metadata": {
            "tags": []
          },
          "execution_count": 61
        }
      ]
    },
    {
      "cell_type": "code",
      "metadata": {
        "id": "-wsunDTI64k-"
      },
      "source": [
        "# Feature Scaling\n",
        "from sklearn.preprocessing import StandardScaler\n",
        "\n",
        "sc = StandardScaler()\n",
        "x = sc.fit_transform(x)"
      ],
      "execution_count": 62,
      "outputs": []
    },
    {
      "cell_type": "code",
      "metadata": {
        "colab": {
          "base_uri": "https://localhost:8080/"
        },
        "id": "1z88sXlSFon4",
        "outputId": "ff699708-26b8-48db-aef3-e28829c46e17"
      },
      "source": [
        "x"
      ],
      "execution_count": 63,
      "outputs": [
        {
          "output_type": "execute_result",
          "data": {
            "text/plain": [
              "array([[-7.99457658e-01,  1.28257713e-01],\n",
              "       [-5.10286870e-02,  1.37859159e+00],\n",
              "       [-1.31666684e+00, -6.21944817e-01],\n",
              "       [ 2.32223270e+00, -8.30443624e-01],\n",
              "       [ 1.46195572e-01, -8.19280959e-01],\n",
              "       [ 2.09908496e+00,  1.46259598e+00],\n",
              "       [ 1.09531908e+00,  4.75030899e-01],\n",
              "       [-7.96458904e-01, -1.21483411e+00],\n",
              "       [ 8.55264296e-01, -9.81324726e-01],\n",
              "       [-3.55476114e-01, -6.21930555e-01],\n",
              "       [ 3.87487311e-02,  6.48400206e-02],\n",
              "       [ 1.77112538e-01, -1.19530208e+00],\n",
              "       [-8.36398567e-01, -4.81440402e-01],\n",
              "       [ 1.49769499e+00, -2.23166322e-01],\n",
              "       [ 5.27406027e-01,  6.21976462e-01],\n",
              "       [-8.64648371e-01, -1.85222918e+00],\n",
              "       [ 8.98997888e-01, -1.81000774e-01],\n",
              "       [-8.97110238e-01, -7.59750031e-01],\n",
              "       [ 1.75384005e+00, -9.55319376e-01],\n",
              "       [-5.59287751e-01, -6.60247498e-02],\n",
              "       [-1.73917217e+00,  4.62029789e-01],\n",
              "       [-8.05159264e-01,  3.86803184e-02],\n",
              "       [ 1.02580543e+00, -1.09023371e+00],\n",
              "       [ 4.63557430e-01, -6.13245268e-02],\n",
              "       [-5.24576689e-02, -6.42743290e-02],\n",
              "       [-1.42764854e+00, -9.82238280e-01],\n",
              "       [ 7.58754335e-01,  9.28106741e-01],\n",
              "       [-2.40954941e-01,  7.44605776e-01],\n",
              "       [-9.76058419e-01, -8.65690883e-01],\n",
              "       [ 6.74690547e-01, -1.25031357e+00],\n",
              "       [-1.83985612e-01,  1.22125527e+00],\n",
              "       [ 3.44964294e-01,  6.48699139e-01],\n",
              "       [-1.43047450e+00, -1.05441840e+00],\n",
              "       [-1.15062936e+00, -2.70262657e-01],\n",
              "       [ 4.22850089e-01,  2.99119417e-02],\n",
              "       [ 3.33987204e-01, -1.53998204e+00],\n",
              "       [ 9.97297177e-01,  9.64674708e-02],\n",
              "       [ 1.78297579e-01,  1.33153806e+00],\n",
              "       [-8.89786073e-01, -5.15023719e-01],\n",
              "       [ 6.23629891e-01,  8.57812291e-02],\n",
              "       [-2.64415935e-01, -2.15238064e+00],\n",
              "       [-4.37119518e-01, -1.21230079e+00],\n",
              "       [ 8.86682807e-01, -3.85107115e-01],\n",
              "       [-5.84577286e-01, -1.08879858e+00],\n",
              "       [-1.52082427e+00, -7.17817507e-01],\n",
              "       [-1.54366460e+00, -1.99259052e-02],\n",
              "       [-1.34212381e+00, -9.96509986e-01],\n",
              "       [-6.06572433e-01, -2.56770275e-01],\n",
              "       [ 6.73923340e-01,  1.08694925e+00],\n",
              "       [ 3.71283295e-01, -1.24101139e+00],\n",
              "       [ 6.47280406e-01,  4.42902367e-01],\n",
              "       [-7.34061465e-01,  4.45445910e-01],\n",
              "       [-1.33525938e+00, -1.43669691e+00],\n",
              "       [-7.59855841e-01, -8.40723148e-01],\n",
              "       [ 2.97766046e+00,  1.24417210e+00],\n",
              "       [-6.03469542e-01, -6.36922663e-01],\n",
              "       [-7.18311017e-01, -8.33768666e-01],\n",
              "       [ 1.55596010e+00,  1.46613769e+00],\n",
              "       [ 9.77253201e-01,  1.40360447e+00],\n",
              "       [ 4.27588688e-01,  1.49632055e+00],\n",
              "       [-3.38339932e-01,  2.48300707e+00],\n",
              "       [ 9.94318342e-01,  5.57837715e-01],\n",
              "       [ 1.09829758e+00,  1.58130470e-01],\n",
              "       [-1.54140563e-01, -9.28813900e-01],\n",
              "       [ 1.26772505e+00,  1.32538754e+00],\n",
              "       [ 6.30268879e-01,  2.58112567e-01],\n",
              "       [-3.36520977e-01, -1.80955955e-01],\n",
              "       [-1.15357012e-01,  2.09050843e-01],\n",
              "       [ 2.42362882e-01,  9.79617511e-01],\n",
              "       [ 1.17686548e+00, -4.72227031e-01],\n",
              "       [-5.62486322e-01, -7.50962168e-01],\n",
              "       [ 9.38760851e-01,  1.21381549e+00],\n",
              "       [-7.15823921e-01,  1.31349649e-01],\n",
              "       [-9.02941484e-01,  2.77678635e-01],\n",
              "       [ 5.85176219e-01, -2.95619009e-03],\n",
              "       [ 2.21607671e+00,  6.56180928e-01],\n",
              "       [ 5.76767074e-01, -1.27403720e+00],\n",
              "       [-7.16051021e-01, -1.29402171e+00],\n",
              "       [-1.43765282e+00, -1.77126845e+00],\n",
              "       [ 1.48961502e+00,  8.48212532e-01],\n",
              "       [-5.55227833e-01, -1.54686351e+00],\n",
              "       [ 5.17343401e-01, -9.80297728e-02],\n",
              "       [-1.90235607e+00, -1.12631589e+00],\n",
              "       [ 1.08309745e+00,  9.35907145e-01],\n",
              "       [-3.46385937e-01,  1.03522177e+00],\n",
              "       [-2.57773009e-01,  6.77162007e-01],\n",
              "       [-1.32137974e-01,  1.06219226e+00],\n",
              "       [ 9.27987041e-01,  1.06803889e+00],\n",
              "       [-6.18726122e-01, -1.63385576e-02],\n",
              "       [-7.83042479e-01, -1.17847545e+00],\n",
              "       [ 7.38062049e-01,  1.28350313e+00],\n",
              "       [-1.40217917e+00, -9.69866388e-01],\n",
              "       [ 1.26919024e+00,  5.37010699e-01],\n",
              "       [-2.31539247e+00, -3.83492704e-01],\n",
              "       [ 1.71127024e+00,  7.13893183e-01],\n",
              "       [-1.53083648e+00, -1.06206594e-01],\n",
              "       [-9.09672952e-01, -4.53763505e-01],\n",
              "       [-4.46051290e-01,  1.42238958e-01],\n",
              "       [-2.20512679e+00, -1.35732813e+00],\n",
              "       [ 1.08537270e-01,  1.30280711e+00],\n",
              "       [ 3.58502723e-01, -4.08280129e-01],\n",
              "       [-1.05140613e+00,  3.96649865e-01],\n",
              "       [-3.09142764e-01,  1.07846156e-01],\n",
              "       [-7.11760871e-02, -4.61959666e-02],\n",
              "       [ 6.11737542e-01, -4.49410826e-01],\n",
              "       [-2.84140602e-02,  1.16573516e+00],\n",
              "       [-7.70799281e-01, -2.78737926e+00],\n",
              "       [ 1.42362615e+00,  2.28294560e+00],\n",
              "       [ 9.43591657e-01,  6.74427033e-01],\n",
              "       [ 6.60768319e-02,  2.05846448e-01],\n",
              "       [ 9.64390692e-01,  1.96145795e+00],\n",
              "       [ 1.25368222e-01,  1.62675855e-01],\n",
              "       [ 7.67911699e-01,  7.06197711e-01],\n",
              "       [ 3.95482032e-01,  1.85281787e+00],\n",
              "       [ 7.71325501e-02, -2.89783841e-02],\n",
              "       [ 4.14921072e-01,  1.68278508e+00],\n",
              "       [ 1.54851891e+00,  7.56632828e-01],\n",
              "       [-2.35017067e-01, -1.40143134e+00],\n",
              "       [ 8.32166971e-01,  5.59712614e-01],\n",
              "       [ 4.17850565e-02,  7.22629886e-01],\n",
              "       [-9.42115649e-01, -6.82921220e-01],\n",
              "       [-4.06046726e-01,  6.73695384e-01],\n",
              "       [-1.04638433e+00,  6.41012750e-01],\n",
              "       [ 8.06383164e-02,  1.57436078e-01],\n",
              "       [-7.16469455e-01, -5.73675833e-01],\n",
              "       [ 7.17787481e-01,  1.53197856e+00],\n",
              "       [-8.36244919e-01,  1.55798548e+00],\n",
              "       [-1.07836077e-01, -1.81034324e+00],\n",
              "       [-1.81723975e-01, -5.77507350e-01],\n",
              "       [-1.05817867e+00, -1.75134230e-02],\n",
              "       [ 5.83025801e-01, -6.16505695e-01],\n",
              "       [ 5.47286312e-01,  3.88731290e-01],\n",
              "       [ 3.20818637e-01,  4.36354003e-02],\n",
              "       [-1.67886526e+00, -4.43579312e-01],\n",
              "       [-1.50339446e+00, -3.88461766e-01],\n",
              "       [-1.04357578e+00, -1.40648087e+00],\n",
              "       [ 1.74544624e-01,  2.10597713e+00],\n",
              "       [-9.34969620e-01, -1.70625532e-01],\n",
              "       [ 1.60690195e+00,  2.11529721e+00],\n",
              "       [ 8.02525626e-01,  7.69345926e-01],\n",
              "       [-8.84084416e-01, -3.67546944e-01],\n",
              "       [ 1.98004083e-01,  1.46799168e+00],\n",
              "       [-5.46514235e-01,  1.84825993e-01],\n",
              "       [ 7.06952134e-01,  1.08605172e+00],\n",
              "       [ 3.61687422e-01,  3.22631634e-01],\n",
              "       [-3.79541731e-01,  8.54526231e-01],\n",
              "       [-2.46432412e+00, -7.12438478e-01],\n",
              "       [ 2.89580706e-01,  9.60049594e-01],\n",
              "       [-6.31381571e-01,  1.10571322e-01],\n",
              "       [-1.03622829e+00, -5.03522602e-01],\n",
              "       [-8.55203904e-01,  1.19309732e-01],\n",
              "       [ 8.28917148e-01,  5.63669895e-02],\n",
              "       [ 6.52849533e-01,  1.29773683e-01],\n",
              "       [-3.67688527e-01, -3.73410554e-03],\n",
              "       [-2.59836737e-01,  2.10689272e+00],\n",
              "       [-2.40764550e-01, -3.10185529e-01],\n",
              "       [-4.39547045e-01, -6.74015836e-01],\n",
              "       [ 2.68219030e-01,  8.62135315e-01],\n",
              "       [ 4.61044031e-01,  1.22953955e+00],\n",
              "       [-3.44246932e-02, -5.59481339e-02],\n",
              "       [ 1.75289177e+00,  1.06719582e+00],\n",
              "       [ 3.22430299e-03,  2.81874547e-01],\n",
              "       [ 8.35352248e-01,  8.15579497e-01],\n",
              "       [ 1.90806627e+00,  1.18123819e+00],\n",
              "       [-8.07290438e-01, -2.51404610e+00],\n",
              "       [-4.80512809e-01, -8.57947754e-01],\n",
              "       [ 3.21383283e-01, -9.94071196e-01],\n",
              "       [-2.14676220e-01,  1.08951849e+00],\n",
              "       [ 1.01336250e+00,  3.88173967e-01],\n",
              "       [-2.20803378e-02, -7.65877249e-01],\n",
              "       [ 1.26540129e+00,  1.79220984e+00],\n",
              "       [-2.50941052e-01,  6.01948690e-01],\n",
              "       [ 1.01503492e+00, -1.50611667e+00],\n",
              "       [ 2.58562316e+00,  4.25883823e-01],\n",
              "       [ 9.72978767e-01, -2.81183074e-01],\n",
              "       [-1.38883228e+00, -4.15626407e-01],\n",
              "       [ 2.92083143e-01,  1.59028643e+00],\n",
              "       [-8.43429381e-01, -1.15846205e+00],\n",
              "       [-4.24672606e-01,  1.09258439e-01],\n",
              "       [-3.37954137e-01,  1.98663178e-01],\n",
              "       [-1.56574223e+00,  2.09274899e+00],\n",
              "       [ 1.49602548e+00,  1.77425975e+00],\n",
              "       [-3.40516022e-01, -5.84545667e-01],\n",
              "       [-1.01890451e+00, -1.21711654e+00],\n",
              "       [ 6.60259442e-02, -1.05868940e-01],\n",
              "       [ 7.99054399e-02, -1.08608789e+00],\n",
              "       [-3.97797805e-01,  7.53495593e-01],\n",
              "       [ 1.54767089e+00,  1.91514534e+00],\n",
              "       [-1.58972467e-01, -1.50307162e+00],\n",
              "       [ 5.94008832e-01,  2.44274732e-02],\n",
              "       [ 2.02565664e+00, -3.80108047e-01],\n",
              "       [-2.42517327e+00, -1.95502860e+00],\n",
              "       [-9.22546096e-01, -4.36985573e-02],\n",
              "       [-3.80543438e-01, -8.33300911e-01],\n",
              "       [ 4.04226954e-01,  1.01983375e+00],\n",
              "       [ 5.68788255e-02, -5.86349250e-01],\n",
              "       [ 2.83331859e-01,  6.81383988e-01],\n",
              "       [ 3.19541628e-01, -7.48136618e-01],\n",
              "       [ 8.36006939e-01,  1.29034412e+00],\n",
              "       [-1.15672451e+00, -2.35367919e-01],\n",
              "       [ 3.44079996e-01,  4.39451848e-01],\n",
              "       [-1.35670177e+00, -1.37162998e+00],\n",
              "       [-1.47452537e-01, -1.02432161e+00],\n",
              "       [-5.76773233e-01, -2.67824395e-01],\n",
              "       [ 2.22717403e-01, -6.89598308e-01],\n",
              "       [ 1.98642752e+00,  5.69213044e-01],\n",
              "       [-4.63010108e-01,  4.82897080e-01],\n",
              "       [-1.30466988e+00,  2.73688390e-01],\n",
              "       [-2.91864539e-01,  1.64486245e+00],\n",
              "       [-6.51575832e-02, -7.37071697e-01],\n",
              "       [ 1.50793876e+00,  5.77561928e-01],\n",
              "       [-1.15276892e+00, -2.39817489e-03],\n",
              "       [-1.69821011e+00, -6.02685912e-01],\n",
              "       [ 2.18321254e-01, -6.80342552e-01],\n",
              "       [-7.92284323e-02, -1.13927733e+00],\n",
              "       [-2.58428573e-01,  7.94191124e-01],\n",
              "       [ 1.01530031e+00, -2.34587828e-01],\n",
              "       [ 8.95572644e-02,  6.05801956e-01],\n",
              "       [ 2.11424289e-01, -8.30323562e-01],\n",
              "       [-1.04655997e+00, -1.68057714e-01],\n",
              "       [ 1.42461266e+00, -8.48167788e-02],\n",
              "       [ 1.39440889e-01, -1.96405161e+00],\n",
              "       [ 9.65271066e-01, -6.68572372e-01],\n",
              "       [-4.99678376e-01,  1.96345929e+00],\n",
              "       [ 6.60605880e-01,  7.76432681e-01],\n",
              "       [-4.11683924e-01, -8.01898428e-01],\n",
              "       [ 2.86389218e-01,  2.50098261e-01],\n",
              "       [ 1.23170157e+00,  1.40040161e-01],\n",
              "       [-1.28672996e+00, -9.37298621e-01],\n",
              "       [ 6.25693271e-02,  1.52483521e+00],\n",
              "       [-8.26322393e-01, -1.81101702e+00],\n",
              "       [-7.56628310e-01,  1.16045764e+00],\n",
              "       [ 4.78697583e-01, -5.38748631e-02],\n",
              "       [-6.74555750e-01, -6.35559613e-02],\n",
              "       [ 1.24421282e+00,  1.98007694e+00],\n",
              "       [ 9.85927409e-02, -3.60212266e-01],\n",
              "       [ 1.23876495e+00,  6.50963986e-01],\n",
              "       [ 3.88636743e-01, -2.00006952e-01],\n",
              "       [-1.45053222e+00, -5.28241798e-01],\n",
              "       [-1.64586907e-01,  5.34031939e-01],\n",
              "       [ 1.90310940e+00, -1.11700106e+00],\n",
              "       [-1.41082303e+00, -7.98440963e-01],\n",
              "       [-1.01610140e-01, -5.52306370e-01],\n",
              "       [-1.52479331e+00, -2.81813172e-01],\n",
              "       [-1.09525041e+00, -9.40895801e-01],\n",
              "       [ 8.33735517e-01, -1.44091133e-02],\n",
              "       [-1.42957514e+00, -1.19639234e+00],\n",
              "       [ 2.22478229e+00, -5.06242025e-01],\n",
              "       [-1.82989184e+00, -7.77146018e-01],\n",
              "       [ 7.36313085e-02,  3.12949006e-01],\n",
              "       [ 2.64396975e-01,  1.54909798e+00],\n",
              "       [-5.78443863e-01, -1.74139851e+00],\n",
              "       [-2.12819745e-01, -2.09385547e+00],\n",
              "       [ 9.57532560e-01,  5.39093731e-01],\n",
              "       [-5.87237907e-01,  2.73955470e-01],\n",
              "       [ 1.09951354e+00,  2.83820577e-01],\n",
              "       [-3.76790524e-01, -8.05747851e-01],\n",
              "       [ 9.65530016e-01,  1.45734843e+00],\n",
              "       [ 6.68147688e-02,  4.60377823e-01],\n",
              "       [-5.31909663e-01,  5.18115381e-02],\n",
              "       [ 1.28833924e+00, -1.13937600e+00],\n",
              "       [ 6.96080135e-01, -5.47814001e-01],\n",
              "       [ 2.21338476e+00,  1.06200284e+00],\n",
              "       [ 8.07307574e-01,  3.89280819e-01],\n",
              "       [-9.33146206e-01, -1.68487057e+00],\n",
              "       [-1.89904618e+00, -2.18295716e-01],\n",
              "       [-3.97184190e-01, -7.72570190e-01],\n",
              "       [ 1.29267843e+00,  2.27779326e-01],\n",
              "       [ 3.54770860e-01,  9.10179368e-01],\n",
              "       [ 1.23343285e+00,  3.29963489e-01],\n",
              "       [-2.08183761e-01, -9.25439405e-01],\n",
              "       [ 1.65191608e+00,  3.96397091e-01],\n",
              "       [ 1.24585679e+00,  1.41180492e+00],\n",
              "       [-3.80043924e-01, -1.06169574e-01],\n",
              "       [-2.45407372e-01,  1.48826577e+00],\n",
              "       [ 8.99699844e-01,  1.55549616e+00],\n",
              "       [-1.60915516e+00, -1.01003137e+00],\n",
              "       [ 1.05223712e+00,  7.99010943e-01],\n",
              "       [-1.62066851e+00,  1.25136057e+00],\n",
              "       [ 1.97438437e+00,  3.50674064e-02],\n",
              "       [-1.36646222e+00, -3.77859008e-01],\n",
              "       [-4.44161882e-01, -8.06752732e-01],\n",
              "       [ 1.00576017e+00,  1.60149293e+00],\n",
              "       [-7.12568452e-01, -5.73584907e-01],\n",
              "       [-5.13376111e-01,  2.30822516e-01],\n",
              "       [ 1.88298414e+00,  8.73179066e-01],\n",
              "       [-1.13175416e+00, -1.46893142e+00],\n",
              "       [ 1.47056762e+00, -7.20031987e-02],\n",
              "       [ 1.46155764e-02,  1.12979229e+00],\n",
              "       [ 1.74550935e+00,  1.44229034e-01],\n",
              "       [-2.78376117e-01, -1.02314121e+00],\n",
              "       [-5.73251834e-01, -2.23373358e-01],\n",
              "       [ 8.13069378e-01, -1.12138977e+00],\n",
              "       [-1.08480907e+00, -7.86291560e-01],\n",
              "       [ 1.38267785e+00,  7.78269562e-01],\n",
              "       [ 6.05017234e-01,  4.21569136e-01],\n",
              "       [ 4.28762764e-01,  1.17038786e+00],\n",
              "       [-1.71553149e-01,  9.27029232e-02],\n",
              "       [-2.30791221e+00,  6.30805286e-02],\n",
              "       [ 3.93751298e-01, -2.41424855e-01],\n",
              "       [-1.49843916e+00, -1.00450601e-01],\n",
              "       [-7.51719512e-02, -1.16628841e+00],\n",
              "       [ 2.28098620e+00,  1.65189364e-02],\n",
              "       [-1.90921852e+00,  1.13647954e-01],\n",
              "       [ 1.06851142e-01,  2.78900567e-01],\n",
              "       [ 1.21969727e+00,  5.24899798e-01],\n",
              "       [-2.16629216e+00, -5.90937478e-01],\n",
              "       [-1.14994093e+00, -2.41675560e+00],\n",
              "       [ 1.20517638e+00,  1.29016696e+00],\n",
              "       [-3.22365808e-01,  1.27372563e+00],\n",
              "       [-6.48493466e-01, -1.63506165e-01],\n",
              "       [-2.27442560e-01, -1.17735631e+00],\n",
              "       [-2.14563526e-01, -1.22150728e+00],\n",
              "       [ 6.26794649e-01, -2.40037655e-01],\n",
              "       [ 9.99539856e-01,  4.82253821e-01],\n",
              "       [-9.11163106e-01, -1.32337060e+00],\n",
              "       [-2.08254258e+00, -3.83457878e-01],\n",
              "       [ 1.48257113e+00,  1.68256408e-01],\n",
              "       [-4.57989979e-01,  8.55755068e-01],\n",
              "       [-1.53834725e+00,  6.36975234e-01],\n",
              "       [ 2.68027594e-01, -1.46264059e+00],\n",
              "       [ 2.31823509e+00, -4.49316213e-01],\n",
              "       [ 1.12735434e+00, -6.25400558e-01],\n",
              "       [ 1.18473700e-01, -7.70880173e-01],\n",
              "       [ 6.87656629e-01,  1.31802826e+00],\n",
              "       [ 4.05529430e-01,  6.40325553e-01],\n",
              "       [ 1.09773526e+00,  1.34446404e+00],\n",
              "       [ 5.10943282e-01, -6.59638389e-01],\n",
              "       [-2.79280647e+00, -1.58447584e+00],\n",
              "       [-5.11310233e-02, -1.12628909e+00],\n",
              "       [ 1.19093972e+00, -1.11701595e-01],\n",
              "       [ 1.27887913e+00,  3.00539351e-01],\n",
              "       [-4.10243162e-01, -1.15753545e-02],\n",
              "       [ 2.18200890e-01,  1.56454875e-01],\n",
              "       [ 4.72072688e-01,  1.54992105e-01],\n",
              "       [ 1.87441076e-01,  4.63852044e-01],\n",
              "       [-9.84468940e-02, -1.24880708e-01],\n",
              "       [ 4.79229983e-01, -1.44345059e-01],\n",
              "       [ 1.69663462e+00,  1.11208820e-01],\n",
              "       [ 8.09930826e-01, -1.72046521e+00],\n",
              "       [-2.10129200e-01, -9.14068144e-02],\n",
              "       [ 7.62151072e-01,  2.21682152e+00],\n",
              "       [ 3.03362900e-02,  1.90588939e+00],\n",
              "       [ 1.40123857e+00,  1.31693631e+00],\n",
              "       [ 8.47383498e-01,  3.46881340e-01],\n",
              "       [ 1.51842223e+00,  8.97182126e-01],\n",
              "       [-4.25875625e-01, -7.26998696e-01],\n",
              "       [ 5.19235713e-01, -3.24748638e-01],\n",
              "       [ 6.62743265e-02, -1.15680141e-01],\n",
              "       [-9.08416002e-01, -8.62416406e-01],\n",
              "       [-5.00122693e-01, -1.42137651e+00],\n",
              "       [-2.78093845e-01,  3.49097910e-01],\n",
              "       [ 5.07133827e-01,  7.57085151e-03],\n",
              "       [-9.67986770e-01, -2.74018308e-01],\n",
              "       [-3.47623362e-01, -1.18353500e+00],\n",
              "       [ 9.00127361e-02,  9.03336004e-01],\n",
              "       [ 7.35118466e-01,  4.70422049e-01],\n",
              "       [ 5.27050651e-01,  1.44743530e-01],\n",
              "       [-1.63019618e-01,  1.19257227e+00],\n",
              "       [ 8.62103501e-01,  4.25322958e-01],\n",
              "       [ 1.42843937e+00,  1.07942714e+00],\n",
              "       [-2.36068144e+00, -9.41129513e-01],\n",
              "       [ 4.34747198e-01,  1.84558386e+00],\n",
              "       [ 7.92715785e-01,  1.19646227e+00],\n",
              "       [-1.38412304e+00, -7.82259943e-01],\n",
              "       [-1.27725848e+00,  7.52297316e-01],\n",
              "       [-1.73989886e+00,  3.33780501e-01],\n",
              "       [ 1.29105293e+00,  1.18761807e+00],\n",
              "       [-8.30822155e-01,  1.80117605e-01],\n",
              "       [-1.07088607e+00, -5.56898156e-01],\n",
              "       [-6.60486714e-01,  4.49203455e-01],\n",
              "       [ 1.46184378e-01, -6.28570805e-01],\n",
              "       [-5.87596986e-01,  6.82896020e-01],\n",
              "       [ 1.01120803e-01, -1.78517437e+00],\n",
              "       [ 6.38603734e-03,  1.46624390e+00],\n",
              "       [-1.46834772e-01, -1.23734947e+00],\n",
              "       [ 2.46884600e-02,  1.57072173e+00],\n",
              "       [-1.55636639e+00, -7.10749996e-01],\n",
              "       [ 6.46145133e-01,  1.05983228e+00],\n",
              "       [ 3.20443973e-01,  1.28450995e-01],\n",
              "       [ 1.06931056e+00,  8.62704790e-01],\n",
              "       [ 1.29534992e-01,  1.14768065e+00],\n",
              "       [-7.23528829e-01, -8.26128261e-01],\n",
              "       [ 1.12386746e+00,  5.76429012e-01],\n",
              "       [-3.77350625e-01, -1.41877223e+00],\n",
              "       [-1.31874898e+00, -2.34326440e-01],\n",
              "       [-6.92868827e-01,  1.24451155e+00],\n",
              "       [ 2.04452218e+00,  1.04577832e+00],\n",
              "       [ 7.08248950e-01,  1.47664601e+00],\n",
              "       [-5.77249761e-01, -2.57793682e+00],\n",
              "       [-2.99815039e-01, -4.78395457e-01],\n",
              "       [ 9.55037645e-01,  1.47119015e+00],\n",
              "       [-1.82782453e+00, -1.05304777e+00],\n",
              "       [-7.28129436e-01,  6.59010772e-01],\n",
              "       [ 3.93423635e-01,  2.18334976e+00],\n",
              "       [ 1.14375260e+00,  3.71621874e-01],\n",
              "       [ 2.24544291e-01,  3.78344206e-01],\n",
              "       [-9.70629827e-01, -1.79172680e+00],\n",
              "       [ 2.39410715e-01,  8.82447136e-01],\n",
              "       [ 7.19277726e-01, -1.00438525e+00],\n",
              "       [ 7.94587947e-01,  1.13587727e+00],\n",
              "       [-5.24625542e-01,  5.26287084e-01],\n",
              "       [-3.05048160e-01, -1.72320179e+00],\n",
              "       [-5.70715635e-01, -3.05925470e-01],\n",
              "       [-9.83818173e-01, -1.43310102e+00],\n",
              "       [-2.20285872e-01, -1.78035137e+00],\n",
              "       [-8.10221766e-01, -1.67739289e+00],\n",
              "       [ 5.85621734e-01,  2.22471293e+00],\n",
              "       [ 4.81997019e-01,  4.82652448e-01],\n",
              "       [-7.92902568e-01,  1.40635901e-01],\n",
              "       [ 6.26603767e-01,  2.88253836e-01],\n",
              "       [-1.31149405e+00, -8.81682059e-01],\n",
              "       [-8.48086524e-01,  1.31739164e+00],\n",
              "       [-3.51687074e-01,  1.28325152e+00],\n",
              "       [ 3.31256892e-01, -1.12033884e+00],\n",
              "       [ 1.82927627e+00,  6.98873547e-01],\n",
              "       [ 3.12995886e-01,  1.72720935e+00],\n",
              "       [-5.51094361e-01, -7.00131706e-01],\n",
              "       [ 1.31599336e+00,  9.41421783e-02],\n",
              "       [ 3.44927602e-01, -1.47132096e-01],\n",
              "       [ 1.72135322e-01, -1.59685526e+00],\n",
              "       [ 5.06769182e-01,  5.24684010e-01],\n",
              "       [-1.08090975e+00, -6.45661787e-01],\n",
              "       [-3.02098814e-01, -1.79861741e+00],\n",
              "       [ 1.12889157e+00,  1.98190953e+00],\n",
              "       [ 1.48805910e+00,  9.27229065e-01],\n",
              "       [ 2.63141389e-01,  1.02742605e-01],\n",
              "       [-2.96569336e-01, -1.02427718e+00],\n",
              "       [ 1.27842887e+00,  6.42418929e-01],\n",
              "       [-8.42943155e-01, -4.29119606e-01],\n",
              "       [-1.91132465e-01,  4.15148736e-01],\n",
              "       [ 1.02626226e+00,  7.20450068e-01],\n",
              "       [-2.89151763e-01,  6.44961019e-01],\n",
              "       [-3.48394024e-01,  3.48103203e-02],\n",
              "       [ 3.00478046e-01,  1.24373063e+00],\n",
              "       [-2.16905779e+00, -1.51110615e+00],\n",
              "       [-8.27867118e-01, -2.76806472e-01],\n",
              "       [ 6.33635710e-01, -5.09246868e-01],\n",
              "       [ 6.26106703e-01,  7.50557005e-01],\n",
              "       [ 2.01173160e-01, -2.02638847e-01],\n",
              "       [-3.86929102e-01, -1.11683559e-01],\n",
              "       [-3.81072741e-01, -2.05002079e+00],\n",
              "       [ 3.42595298e-02, -1.00778802e+00],\n",
              "       [-2.76609826e+00, -9.84487785e-01],\n",
              "       [-1.26962083e+00, -7.39867378e-01],\n",
              "       [-9.02821987e-01,  8.84221540e-01],\n",
              "       [ 3.30774731e-03, -5.14590296e-01],\n",
              "       [-4.39656187e-01, -1.33815008e+00],\n",
              "       [-1.21727002e-01, -9.06545636e-01],\n",
              "       [-6.13638244e-01, -5.97782954e-01],\n",
              "       [ 4.48526308e-01, -4.17928816e-01],\n",
              "       [ 9.68142138e-02, -3.89771134e-01],\n",
              "       [ 2.62399033e-01, -2.13904662e+00],\n",
              "       [-4.13832022e-01, -7.11787278e-01],\n",
              "       [ 5.13026747e-01, -1.53519500e+00],\n",
              "       [ 4.57969682e-01,  2.03857045e+00],\n",
              "       [-1.96516240e+00,  2.35892897e+00],\n",
              "       [-8.30558309e-01, -8.27878447e-01],\n",
              "       [ 3.74335737e-01,  1.24675686e+00],\n",
              "       [ 4.39769398e-01,  4.62387961e-01],\n",
              "       [-6.00890099e-01, -6.74237655e-01],\n",
              "       [ 5.31031094e-01,  1.09595804e+00],\n",
              "       [-1.10130678e+00, -9.69857225e-01],\n",
              "       [ 4.67665396e-01,  5.37880931e-01],\n",
              "       [ 1.87463590e+00,  9.98778697e-01],\n",
              "       [ 1.27332419e+00, -3.98894338e-02],\n",
              "       [ 5.59128087e-01,  5.32813464e-01],\n",
              "       [-7.01364125e-01, -1.01686333e-01],\n",
              "       [ 9.65145405e-01,  8.56079168e-02],\n",
              "       [-2.73372941e-01, -6.56301972e-01],\n",
              "       [-5.10850236e-01,  1.55500352e+00],\n",
              "       [ 8.59447839e-01, -9.26391980e-01],\n",
              "       [-1.02959805e+00, -5.17888726e-01],\n",
              "       [ 5.41314780e-01,  2.60639388e-01],\n",
              "       [ 1.31656657e+00,  9.98590718e-01],\n",
              "       [-1.06031983e+00, -6.39528470e-01],\n",
              "       [ 4.50249526e-01,  1.06273571e+00],\n",
              "       [-8.61257819e-01,  4.61587932e-01],\n",
              "       [-1.34304341e+00, -2.41164554e+00],\n",
              "       [ 1.01932774e+00, -2.57057820e-01],\n",
              "       [ 1.09575096e+00,  2.77556768e-01],\n",
              "       [-1.15244247e+00, -8.95045507e-01],\n",
              "       [ 5.22730195e-01,  4.81677546e-01],\n",
              "       [-1.37440455e+00, -6.73839622e-01],\n",
              "       [ 4.37877245e-01, -1.07083877e+00],\n",
              "       [ 4.71567012e-02, -4.61818265e-02],\n",
              "       [ 9.48297203e-01,  1.52645424e-01],\n",
              "       [ 1.13932638e+00,  6.46623388e-02],\n",
              "       [-9.44448413e-01,  3.67763347e-01],\n",
              "       [-9.95654359e-01, -1.55281483e+00],\n",
              "       [ 2.09814834e-01, -1.44736166e-01],\n",
              "       [ 4.67658202e-01,  5.72131754e-01],\n",
              "       [-3.07006494e+00, -2.93483588e-01],\n",
              "       [-9.13201126e-01, -9.58097186e-01],\n",
              "       [-1.50615103e+00, -4.17912301e-01],\n",
              "       [-1.12757275e+00, -5.90970043e-01],\n",
              "       [ 2.63907387e-01, -1.52382503e+00],\n",
              "       [-7.01646996e-01, -1.11693508e+00],\n",
              "       [-5.87212695e-02,  1.12989966e+00]])"
            ]
          },
          "metadata": {
            "tags": []
          },
          "execution_count": 63
        }
      ]
    },
    {
      "cell_type": "code",
      "metadata": {
        "id": "otp9beJnForN"
      },
      "source": [
        ""
      ],
      "execution_count": 63,
      "outputs": []
    },
    {
      "cell_type": "markdown",
      "metadata": {
        "id": "AGJW1EIl64k-"
      },
      "source": [
        "# STEP#4: MODEL TRAINING"
      ]
    },
    {
      "cell_type": "code",
      "metadata": {
        "id": "t5XYp9Vj64k_"
      },
      "source": [
        "from sklearn.model_selection import train_test_split\n",
        "\n",
        "x_train, x_test, y_train, y_test = train_test_split(x, y, test_size = 0.2, random_state = 0)"
      ],
      "execution_count": 64,
      "outputs": []
    },
    {
      "cell_type": "code",
      "metadata": {
        "colab": {
          "base_uri": "https://localhost:8080/"
        },
        "id": "8KyNBZFa64k_",
        "outputId": "3fe64928-b20d-432a-ba09-912903a5f66d"
      },
      "source": [
        "x_train.shape"
      ],
      "execution_count": 65,
      "outputs": [
        {
          "output_type": "execute_result",
          "data": {
            "text/plain": [
              "(399, 2)"
            ]
          },
          "metadata": {
            "tags": []
          },
          "execution_count": 65
        }
      ]
    },
    {
      "cell_type": "code",
      "metadata": {
        "colab": {
          "base_uri": "https://localhost:8080/"
        },
        "id": "b47QgLDH64lA",
        "outputId": "63a23644-cf0f-4d80-f86e-8e1efe42863d"
      },
      "source": [
        "x_test.shape"
      ],
      "execution_count": 66,
      "outputs": [
        {
          "output_type": "execute_result",
          "data": {
            "text/plain": [
              "(100, 2)"
            ]
          },
          "metadata": {
            "tags": []
          },
          "execution_count": 66
        }
      ]
    },
    {
      "cell_type": "code",
      "metadata": {
        "id": "Cilf9gbW64lI"
      },
      "source": [
        ""
      ],
      "execution_count": 66,
      "outputs": []
    },
    {
      "cell_type": "code",
      "metadata": {
        "colab": {
          "base_uri": "https://localhost:8080/"
        },
        "id": "TGhv7TsM64lM",
        "outputId": "d2b6f645-a062-4d45-8d61-a7e1f7ef923e"
      },
      "source": [
        "# Fitting Logistic Regression to the Training set\n",
        "from sklearn.linear_model import LogisticRegression\n",
        "\n",
        "classifier = LogisticRegression(random_state = 0)\n",
        "classifier.fit(x_train, y_train)"
      ],
      "execution_count": 67,
      "outputs": [
        {
          "output_type": "execute_result",
          "data": {
            "text/plain": [
              "LogisticRegression(C=1.0, class_weight=None, dual=False, fit_intercept=True,\n",
              "                   intercept_scaling=1, l1_ratio=None, max_iter=100,\n",
              "                   multi_class='auto', n_jobs=None, penalty='l2',\n",
              "                   random_state=0, solver='lbfgs', tol=0.0001, verbose=0,\n",
              "                   warm_start=False)"
            ]
          },
          "metadata": {
            "tags": []
          },
          "execution_count": 67
        }
      ]
    },
    {
      "cell_type": "markdown",
      "metadata": {
        "id": "kMBHwxir64lN"
      },
      "source": [
        "# STEP#5: MODEL TESTING"
      ]
    },
    {
      "cell_type": "code",
      "metadata": {
        "id": "on7iMFBG64lN"
      },
      "source": [
        "y_pred = classifier.predict(x_test)"
      ],
      "execution_count": 68,
      "outputs": []
    },
    {
      "cell_type": "code",
      "metadata": {
        "colab": {
          "base_uri": "https://localhost:8080/"
        },
        "id": "SHZSXANv64lO",
        "outputId": "06f77e72-97eb-4132-c169-edddceec52fd"
      },
      "source": [
        "y_pred"
      ],
      "execution_count": 69,
      "outputs": [
        {
          "output_type": "execute_result",
          "data": {
            "text/plain": [
              "array([1, 0, 0, 0, 1, 0, 0, 0, 0, 0, 0, 1, 1, 1, 1, 0, 0, 0, 1, 1, 1, 0,\n",
              "       1, 1, 0, 1, 0, 0, 0, 0, 1, 1, 0, 0, 0, 1, 0, 1, 1, 0, 1, 0, 0, 0,\n",
              "       0, 1, 0, 1, 0, 0, 1, 1, 1, 1, 1, 0, 0, 1, 1, 1, 0, 0, 1, 1, 0, 1,\n",
              "       1, 0, 1, 1, 0, 1, 0, 0, 0, 0, 0, 0, 1, 1, 0, 0, 0, 0, 0, 1, 1, 1,\n",
              "       1, 1, 1, 0, 1, 1, 0, 1, 0, 0, 1, 1])"
            ]
          },
          "metadata": {
            "tags": []
          },
          "execution_count": 69
        }
      ]
    },
    {
      "cell_type": "code",
      "metadata": {
        "colab": {
          "base_uri": "https://localhost:8080/"
        },
        "id": "7-6GGOIg64lO",
        "outputId": "73936b5a-447c-4481-84ea-f68af56f1ecd"
      },
      "source": [
        "y"
      ],
      "execution_count": 70,
      "outputs": [
        {
          "output_type": "execute_result",
          "data": {
            "text/plain": [
              "array([0, 1, 0, 1, 0, 1, 1, 0, 1, 0, 0, 0, 0, 1, 1, 0, 1, 0, 1, 0, 0, 0,\n",
              "       1, 1, 0, 0, 1, 1, 1, 0, 1, 1, 0, 0, 0, 0, 1, 1, 0, 1, 0, 0, 1, 0,\n",
              "       0, 0, 1, 0, 1, 1, 1, 0, 0, 0, 1, 0, 0, 1, 1, 1, 1, 1, 1, 0, 1, 1,\n",
              "       0, 1, 1, 0, 0, 1, 0, 0, 0, 1, 0, 0, 0, 1, 0, 1, 0, 1, 1, 1, 1, 1,\n",
              "       1, 0, 1, 0, 1, 0, 1, 0, 1, 0, 0, 1, 1, 0, 1, 1, 1, 1, 0, 1, 1, 1,\n",
              "       1, 1, 1, 1, 1, 1, 1, 0, 1, 0, 0, 1, 0, 0, 0, 1, 1, 0, 0, 1, 1, 1,\n",
              "       1, 0, 0, 0, 1, 0, 1, 1, 0, 1, 0, 1, 1, 1, 0, 1, 0, 0, 0, 1, 1, 0,\n",
              "       1, 0, 0, 1, 1, 1, 1, 1, 1, 1, 0, 0, 0, 0, 1, 0, 1, 1, 1, 1, 1, 0,\n",
              "       1, 0, 0, 0, 1, 1, 0, 0, 0, 0, 0, 1, 0, 1, 1, 0, 0, 0, 1, 0, 1, 0,\n",
              "       1, 0, 1, 0, 0, 0, 0, 1, 0, 0, 1, 0, 1, 0, 0, 0, 0, 1, 1, 1, 0, 0,\n",
              "       1, 0, 1, 1, 1, 0, 1, 1, 0, 1, 0, 1, 1, 1, 1, 0, 1, 0, 0, 1, 0, 0,\n",
              "       0, 0, 0, 1, 0, 1, 0, 1, 1, 0, 0, 1, 1, 1, 0, 1, 1, 0, 1, 1, 1, 1,\n",
              "       0, 0, 0, 1, 1, 1, 0, 1, 1, 0, 1, 1, 0, 1, 0, 1, 0, 0, 1, 0, 1, 1,\n",
              "       0, 1, 1, 1, 0, 0, 0, 0, 1, 0, 1, 0, 0, 0, 0, 0, 1, 0, 0, 1, 0, 0,\n",
              "       1, 1, 0, 0, 0, 1, 1, 0, 0, 1, 1, 0, 0, 1, 1, 0, 1, 1, 1, 0, 0, 0,\n",
              "       1, 1, 0, 0, 1, 1, 0, 0, 1, 0, 0, 1, 1, 1, 1, 1, 1, 1, 0, 0, 0, 1,\n",
              "       1, 0, 0, 1, 1, 1, 0, 1, 1, 0, 1, 1, 0, 0, 0, 1, 0, 0, 0, 0, 0, 0,\n",
              "       1, 0, 1, 0, 1, 1, 1, 1, 0, 1, 0, 0, 1, 1, 1, 0, 0, 1, 0, 1, 1, 1,\n",
              "       1, 0, 1, 0, 1, 0, 0, 0, 0, 0, 0, 1, 1, 0, 1, 0, 1, 1, 0, 1, 1, 0,\n",
              "       1, 1, 0, 1, 0, 0, 1, 1, 1, 0, 1, 0, 0, 1, 0, 0, 1, 0, 0, 0, 1, 1,\n",
              "       0, 0, 0, 0, 1, 1, 0, 0, 0, 0, 0, 0, 0, 0, 0, 1, 0, 0, 1, 1, 0, 1,\n",
              "       0, 1, 1, 1, 1, 0, 1, 0, 1, 1, 0, 0, 1, 0, 1, 0, 0, 1, 1, 0, 1, 0,\n",
              "       0, 1, 1, 1, 0, 0, 1, 1, 0, 0, 0, 0, 0, 0, 1])"
            ]
          },
          "metadata": {
            "tags": []
          },
          "execution_count": 70
        }
      ]
    },
    {
      "cell_type": "code",
      "metadata": {
        "colab": {
          "base_uri": "https://localhost:8080/",
          "height": 282
        },
        "id": "P1kygIvF64lO",
        "outputId": "362361e2-7214-4db7-ed78-7aa01991cf39"
      },
      "source": [
        "from sklearn.metrics import confusion_matrix, classification_report\n",
        "cm = confusion_matrix(y_test, y_pred)\n",
        "sns.heatmap(cm, annot=True, fmt = 'd')"
      ],
      "execution_count": 71,
      "outputs": [
        {
          "output_type": "execute_result",
          "data": {
            "text/plain": [
              "<matplotlib.axes._subplots.AxesSubplot at 0x7f34397695d0>"
            ]
          },
          "metadata": {
            "tags": []
          },
          "execution_count": 71
        },
        {
          "output_type": "display_data",
          "data": {
            "image/png": "[encoded data removed]",
            "text/plain": [
              "<Figure size 432x288 with 2 Axes>"
            ]
          },
          "metadata": {
            "tags": [],
            "needs_background": "light"
          }
        }
      ]
    },
    {
      "cell_type": "code",
      "metadata": {
        "colab": {
          "base_uri": "https://localhost:8080/"
        },
        "id": "6ognxKG664lP",
        "outputId": "8f524948-0683-4747-ba31-d42f7c4febe5"
      },
      "source": [
        "print(classification_report(y_test, y_pred))"
      ],
      "execution_count": 72,
      "outputs": [
        {
          "output_type": "stream",
          "text": [
            "              precision    recall  f1-score   support\n",
            "\n",
            "           0       0.83      0.90      0.86        48\n",
            "           1       0.90      0.83      0.86        52\n",
            "\n",
            "    accuracy                           0.86       100\n",
            "   macro avg       0.86      0.86      0.86       100\n",
            "weighted avg       0.86      0.86      0.86       100\n",
            "\n"
          ],
          "name": "stdout"
        }
      ]
    },
    {
      "cell_type": "code",
      "metadata": {
        "id": "qG6YHmnz64lP"
      },
      "source": [
        ""
      ],
      "execution_count": 72,
      "outputs": []
    },
    {
      "cell_type": "markdown",
      "metadata": {
        "id": "5sk74xwJ64lQ"
      },
      "source": [
        "# STEP #6: VISUALIZING TRAINING AND TESTING DATASETS"
      ]
    },
    {
      "cell_type": "code",
      "metadata": {
        "colab": {
          "base_uri": "https://localhost:8080/",
          "height": 349
        },
        "id": "rzv6Vw2764lQ",
        "outputId": "05066768-6e01-41ac-df5e-b13147381590"
      },
      "source": [
        "# Visualising the Training set results\n",
        "from matplotlib.colors import ListedColormap\n",
        "X_set, y_set = x_train, y_train\n",
        "X1, X2 = np.meshgrid(np.arange(start = X_set[:, 0].min() - 1, stop = X_set[:, 0].max() + 1, step = 0.01),\n",
        "                     np.arange(start = X_set[:, 1].min() - 1, stop = X_set[:, 1].max() + 1, step = 0.01))\n",
        "plt.contourf(X1, X2, classifier.predict(np.array([X1.ravel(), X2.ravel()]).T).reshape(X1.shape),\n",
        "             alpha = 0.75, cmap = ListedColormap(('magenta', 'blue')))\n",
        "plt.xlim(X1.min(), X1.max())\n",
        "plt.ylim(X2.min(), X2.max())\n",
        "for i, j in enumerate(np.unique(y_set)):\n",
        "    plt.scatter(X_set[y_set == j, 0], X_set[y_set == j, 1],\n",
        "                c = ListedColormap(('magenta', 'blue'))(i), label = j)\n",
        "plt.title('Facebook Ad: Customer Click Prediction (Training set)')\n",
        "plt.xlabel('Time Spent on Site')\n",
        "plt.ylabel('Estimated Salary')\n",
        "plt.legend()\n",
        "plt.show()"
      ],
      "execution_count": 73,
      "outputs": [
        {
          "output_type": "stream",
          "text": [
            "*c* argument looks like a single numeric RGB or RGBA sequence, which should be avoided as value-mapping will have precedence in case its length matches with *x* & *y*.  Please use the *color* keyword-argument or provide a 2-D array with a single row if you intend to specify the same RGB or RGBA value for all points.\n",
            "*c* argument looks like a single numeric RGB or RGBA sequence, which should be avoided as value-mapping will have precedence in case its length matches with *x* & *y*.  Please use the *color* keyword-argument or provide a 2-D array with a single row if you intend to specify the same RGB or RGBA value for all points.\n"
          ],
          "name": "stderr"
        },
        {
          "output_type": "display_data",
          "data": {
            "image/png": "[encoded data removed]",
            "text/plain": [
              "<Figure size 432x288 with 1 Axes>"
            ]
          },
          "metadata": {
            "tags": [],
            "needs_background": "light"
          }
        }
      ]
    },
    {
      "cell_type": "code",
      "metadata": {
        "colab": {
          "base_uri": "https://localhost:8080/",
          "height": 349
        },
        "id": "_GvuRtl464lS",
        "outputId": "e56c8630-f3ff-4535-b84a-d1954ec95ae3"
      },
      "source": [
        "# Visualising the Training set results\n",
        "from matplotlib.colors import ListedColormap\n",
        "X_set, y_set = x_test, y_test\n",
        "X1, X2 = np.meshgrid(np.arange(start = X_set[:, 0].min() - 1, stop = X_set[:, 0].max() + 1, step = 0.01),\n",
        "                     np.arange(start = X_set[:, 1].min() - 1, stop = X_set[:, 1].max() + 1, step = 0.01))\n",
        "plt.contourf(X1, X2, classifier.predict(np.array([X1.ravel(), X2.ravel()]).T).reshape(X1.shape),\n",
        "             alpha = 0.75, cmap = ListedColormap(('magenta', 'blue')))\n",
        "plt.xlim(X1.min(), X1.max())\n",
        "plt.ylim(X2.min(), X2.max())\n",
        "for i, j in enumerate(np.unique(y_set)):\n",
        "    plt.scatter(X_set[y_set == j, 0], X_set[y_set == j, 1],\n",
        "                c = ListedColormap(('magenta', 'blue'))(i), label = j)\n",
        "plt.title('Facebook Ad: Customer Click Prediction (Testing set)')\n",
        "plt.xlabel('Time Spent on Site')\n",
        "plt.ylabel('Estimated Salary')\n",
        "plt.legend()\n",
        "plt.show()"
      ],
      "execution_count": 74,
      "outputs": [
        {
          "output_type": "stream",
          "text": [
            "*c* argument looks like a single numeric RGB or RGBA sequence, which should be avoided as value-mapping will have precedence in case its length matches with *x* & *y*.  Please use the *color* keyword-argument or provide a 2-D array with a single row if you intend to specify the same RGB or RGBA value for all points.\n",
            "*c* argument looks like a single numeric RGB or RGBA sequence, which should be avoided as value-mapping will have precedence in case its length matches with *x* & *y*.  Please use the *color* keyword-argument or provide a 2-D array with a single row if you intend to specify the same RGB or RGBA value for all points.\n"
          ],
          "name": "stderr"
        },
        {
          "output_type": "display_data",
          "data": {
            "image/png": "[encoded data removed]",
            "text/plain": [
              "<Figure size 432x288 with 1 Axes>"
            ]
          },
          "metadata": {
            "tags": [],
            "needs_background": "light"
          }
        }
      ]
    },
    {
      "cell_type": "markdown",
      "metadata": {
        "id": "39gJOKuQ64lV"
      },
      "source": [
        "# EXCELLENT JOB! NOW YOU'VE BECOME EXPERT IN LOGISTIC REGRESSION"
      ]
    },
    {
      "cell_type": "code",
      "metadata": {
        "id": "fS5nOvKR64lW"
      },
      "source": [
        ""
      ],
      "execution_count": 74,
      "outputs": []
    }
  ]
}