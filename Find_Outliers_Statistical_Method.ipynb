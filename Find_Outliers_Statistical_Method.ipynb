{
  "nbformat": 4,
  "nbformat_minor": 0,
  "metadata": {
    "colab": {
      "name": "Find Outliers Statistical Method.ipynb",
      "provenance": [],
      "authorship_tag": "ABX9TyNcPOGcgVN4eQP5eNrOm8F1",
      "include_colab_link": true
    },
    "kernelspec": {
      "name": "python3",
      "display_name": "Python 3"
    },
    "language_info": {
      "name": "python"
    }
  },
  "cells": [
    {
      "cell_type": "markdown",
      "metadata": {
        "id": "view-in-github",
        "colab_type": "text"
      },
      "source": [
        "<a href=\"https://colab.research.google.com/github/antonio2505/Data_Science_Business_CS/blob/main/Find_Outliers_Statistical_Method.ipynb\" target=\"_parent\"><img src=\"https://colab.research.google.com/assets/colab-badge.svg\" alt=\"Open In Colab\"/></a>"
      ]
    },
    {
      "cell_type": "code",
      "metadata": {
        "id": "gh9yXzjAyVlQ"
      },
      "source": [
        "import numpy as np\n",
        "import pandas as pd\n"
      ],
      "execution_count": 2,
      "outputs": []
    },
    {
      "cell_type": "code",
      "metadata": {
        "id": "EU09y1Z15ove"
      },
      "source": [
        "data = pd.read_csv(\"kyphosis.csv\")\n",
        "data_perc = data.iloc[:, 1:]"
      ],
      "execution_count": 6,
      "outputs": []
    },
    {
      "cell_type": "code",
      "metadata": {
        "colab": {
          "base_uri": "https://localhost:8080/",
          "height": 204
        },
        "id": "-iaWO5BR7YCV",
        "outputId": "41ac0663-956f-463b-8cad-6611e7d78c91"
      },
      "source": [
        "data_perc.head()"
      ],
      "execution_count": 7,
      "outputs": [
        {
          "output_type": "execute_result",
          "data": {
            "text/html": [
              "<div>\n",
              "<style scoped>\n",
              "    .dataframe tbody tr th:only-of-type {\n",
              "        vertical-align: middle;\n",
              "    }\n",
              "\n",
              "    .dataframe tbody tr th {\n",
              "        vertical-align: top;\n",
              "    }\n",
              "\n",
              "    .dataframe thead th {\n",
              "        text-align: right;\n",
              "    }\n",
              "</style>\n",
              "<table border=\"1\" class=\"dataframe\">\n",
              "  <thead>\n",
              "    <tr style=\"text-align: right;\">\n",
              "      <th></th>\n",
              "      <th>Age</th>\n",
              "      <th>Number</th>\n",
              "      <th>Start</th>\n",
              "    </tr>\n",
              "  </thead>\n",
              "  <tbody>\n",
              "    <tr>\n",
              "      <th>0</th>\n",
              "      <td>71</td>\n",
              "      <td>3</td>\n",
              "      <td>5</td>\n",
              "    </tr>\n",
              "    <tr>\n",
              "      <th>1</th>\n",
              "      <td>158</td>\n",
              "      <td>3</td>\n",
              "      <td>14</td>\n",
              "    </tr>\n",
              "    <tr>\n",
              "      <th>2</th>\n",
              "      <td>128</td>\n",
              "      <td>4</td>\n",
              "      <td>5</td>\n",
              "    </tr>\n",
              "    <tr>\n",
              "      <th>3</th>\n",
              "      <td>2</td>\n",
              "      <td>5</td>\n",
              "      <td>1</td>\n",
              "    </tr>\n",
              "    <tr>\n",
              "      <th>4</th>\n",
              "      <td>1</td>\n",
              "      <td>4</td>\n",
              "      <td>15</td>\n",
              "    </tr>\n",
              "  </tbody>\n",
              "</table>\n",
              "</div>"
            ],
            "text/plain": [
              "   Age  Number  Start\n",
              "0   71       3      5\n",
              "1  158       3     14\n",
              "2  128       4      5\n",
              "3    2       5      1\n",
              "4    1       4     15"
            ]
          },
          "metadata": {
            "tags": []
          },
          "execution_count": 7
        }
      ]
    },
    {
      "cell_type": "code",
      "metadata": {
        "colab": {
          "base_uri": "https://localhost:8080/"
        },
        "id": "dXEthUfq5bcu",
        "outputId": "0bc88f9e-315b-4a04-bea6-b42bc608ff2a"
      },
      "source": [
        "#calulate the interquatile range\n",
        "q25, q50, q75 = np.percentile(data_perc, [25,50,75])\n",
        "iqr = q75 - q25\n",
        "\n",
        "# calculate the min/max  to be consider as an Outlier\n",
        "min = q25 - 1.5*(iqr)\n",
        "max = q75 + 1.5*(iqr)\n",
        "\n",
        "print(min, q25, q50, q75, max)"
      ],
      "execution_count": 14,
      "outputs": [
        {
          "output_type": "stream",
          "text": [
            "-26.0 4.0 11.0 24.0 54.0\n"
          ],
          "name": "stdout"
        }
      ]
    },
    {
      "cell_type": "code",
      "metadata": {
        "colab": {
          "base_uri": "https://localhost:8080/"
        },
        "id": "5zNZUaiL6qav",
        "outputId": "f1801135-5b0f-4a4a-f650-7ca12f85b58f"
      },
      "source": [
        "result = [x for x in data_perc['Age'] if x > max]\n",
        "result"
      ],
      "execution_count": 20,
      "outputs": [
        {
          "output_type": "execute_result",
          "data": {
            "text/plain": [
              "[71,\n",
              " 158,\n",
              " 128,\n",
              " 61,\n",
              " 113,\n",
              " 59,\n",
              " 82,\n",
              " 148,\n",
              " 168,\n",
              " 78,\n",
              " 175,\n",
              " 80,\n",
              " 105,\n",
              " 96,\n",
              " 131,\n",
              " 100,\n",
              " 151,\n",
              " 125,\n",
              " 130,\n",
              " 112,\n",
              " 140,\n",
              " 93,\n",
              " 91,\n",
              " 73,\n",
              " 143,\n",
              " 61,\n",
              " 97,\n",
              " 139,\n",
              " 136,\n",
              " 131,\n",
              " 121,\n",
              " 177,\n",
              " 68,\n",
              " 139,\n",
              " 140,\n",
              " 72,\n",
              " 120,\n",
              " 102,\n",
              " 130,\n",
              " 114,\n",
              " 81,\n",
              " 118,\n",
              " 118,\n",
              " 195,\n",
              " 159,\n",
              " 158,\n",
              " 127,\n",
              " 87,\n",
              " 206,\n",
              " 178,\n",
              " 157,\n",
              " 120]"
            ]
          },
          "metadata": {
            "tags": []
          },
          "execution_count": 20
        }
      ]
    },
    {
      "cell_type": "code",
      "metadata": {
        "id": "R51yAgTm710v"
      },
      "source": [
        ""
      ],
      "execution_count": null,
      "outputs": []
    }
  ]
}